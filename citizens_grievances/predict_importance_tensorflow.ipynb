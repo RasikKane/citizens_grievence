{
 "cells": [
  {
   "cell_type": "markdown",
   "metadata": {},
   "source": [
    "# HackerEarth Machine Learning : solving citizens’ grievances\n",
    "\n",
    "### Predict the importance\n",
    "\n",
    "Human rights are basic rights that belong to people all around the world irrespective of race, color, sex, language, religion, political or other opinions, national or social origin, property, birth, etc. These rights include the right to life and liberty, freedom from slavery and torture, freedom of opinion and expression, the right to work and education, etc. It is meant to enable human beings to live with dignity, freedom, equality, justice, and peace. Human rights are essential to the full development of individuals and communities.\n",
    "\n",
    "**In this problem, given dataset contains grievances of various people living in a country. Task is to predict the importance of the grievance with respect to various articles, constitutional declarations, enforcement, resources, and so on, to help the government prioritize which ones to deal with and when.**\n",
    "\n",
    "### Data description\n",
    "The dataset folder consists of the following three .csv files:\n",
    "\n",
    "train.csv: Contains 8878 rows and 328 columns <br>\n",
    "test.csv: Contains 4760 rows and 327 columns <br>\n",
    "sample_submission.csv: 5 rows and 2 columns <br>"
   ]
  },
  {
   "cell_type": "code",
   "execution_count": 1,
   "metadata": {},
   "outputs": [],
   "source": [
    "# Import pandas, numpy, matplotlib, seaborn libraries\n",
    "import pandas as pd\n",
    "import numpy as np\n",
    "from scipy.sparse import csr_matrix\n",
    "from matplotlib import pyplot\n",
    "import matplotlib.patches as mpatches\n",
    "import seaborn as sns\n",
    "from tabulate import tabulate\n",
    "\n",
    "# chi-squared test with similar proportions\n",
    "# from scipy.stats import chi2_contingency\n",
    "# from scipy.stats import chi2\n",
    "from scipy import special\n",
    "\n",
    "\n",
    "from sklearn.preprocessing import OneHotEncoder\n",
    "from sklearn.preprocessing import KBinsDiscretizer\n",
    "from sklearn.preprocessing import FunctionTransformer\n",
    "\n",
    "from sklearn.compose import ColumnTransformer, make_column_transformer\n",
    "from sklearn.pipeline import Pipeline, make_pipeline\n",
    "\n",
    "from sklearn.model_selection import cross_validate\n",
    "from sklearn.model_selection import GridSearchCV\n",
    "from sklearn.model_selection import train_test_split\n",
    "from sklearn.metrics import make_scorer, accuracy_score, precision_score, recall_score, f1_score\n",
    "\n",
    "# classifiers\n",
    "from sklearn.tree import DecisionTreeClassifier\n",
    "from sklearn.linear_model import LogisticRegression\n",
    "from sklearn.ensemble import GradientBoostingClassifier\n",
    "import mord\n",
    "\n",
    "# hide ipykernel warnings \n",
    "import warnings\n",
    "warnings.filterwarnings('ignore')\n",
    "%config Completer.use_jedi = False\n",
    "%matplotlib inline"
   ]
  },
  {
   "cell_type": "code",
   "execution_count": 2,
   "metadata": {},
   "outputs": [
    {
     "name": "stdout",
     "output_type": "stream",
     "text": [
      "Tensorflow version 2.1.0\n",
      "CORAL Ordinal version: 0.1.7-dev\n"
     ]
    }
   ],
   "source": [
    "import tensorflow as tf\n",
    "print(\"Tensorflow version\", tf.__version__)\n",
    "\n",
    "import coral_ordinal as coral\n",
    "print(\"CORAL Ordinal version:\", coral.__version__)"
   ]
  },
  {
   "cell_type": "code",
   "execution_count": 3,
   "metadata": {},
   "outputs": [],
   "source": [
    "# tf.debugging.set_log_device_placement(True)"
   ]
  },
  {
   "cell_type": "code",
   "execution_count": 4,
   "metadata": {},
   "outputs": [],
   "source": [
    "# from tensorflow.python.client import device_lib\n",
    "\n",
    "# device_lib.list_local_devices()"
   ]
  },
  {
   "cell_type": "markdown",
   "metadata": {},
   "source": [
    "### Dataframe information"
   ]
  },
  {
   "cell_type": "code",
   "execution_count": 5,
   "metadata": {},
   "outputs": [],
   "source": [
    "def df_info(df):\n",
    "    null_samples = df.isna().sum()\n",
    "    null_data = np.array(\n",
    "        [list(null_samples.index),\n",
    "         list(str(df[i].unique()[-1])[:20]+\",...\" for i in df.columns),\n",
    "         list(df.nunique().values),\n",
    "         list(null_samples.values),\n",
    "         np.round(np.array(null_samples.values)*100/df.shape[0], 2)\n",
    "        ]\n",
    "    )\n",
    "\n",
    "    # view data types after conversion   \n",
    "    print(tabulate(pd.DataFrame(null_data).T, headers=[\"Feature\",\"example\", \"unique\", \"null\", \"% null\"],showindex=False), \"\\n\")"
   ]
  },
  {
   "cell_type": "markdown",
   "metadata": {},
   "source": [
    "<br>\n",
    "\n",
    "# Exploratory Data Analysis\n",
    "* **In this section, data is explored for its cardinality, null values, duplicates, target class distribution etc.**\n",
    "* To consider differences between train and test data [such as duplicates features, null features etc.]:\n",
    "    * EDA is performed on whole data. So, train and test data is combined for EDA\n",
    "    * **However, *Preprocessing* and *Prediction Model Training* is done ONLY ON TRAIN DATA**"
   ]
  },
  {
   "cell_type": "markdown",
   "metadata": {},
   "source": [
    "## Data ingestion\n",
    "Read train and test datasets"
   ]
  },
  {
   "cell_type": "markdown",
   "metadata": {},
   "source": [
    "### Read train data\n",
    "check data features and size of train data"
   ]
  },
  {
   "cell_type": "code",
   "execution_count": 6,
   "metadata": {},
   "outputs": [],
   "source": [
    "# read in data from train.csv file to pandas dataframe.\n",
    "df_train = pd.read_csv('dataset/train.csv',  keep_default_na=True, sep=',\\s+', delimiter=',', skipinitialspace=True)"
   ]
  },
  {
   "cell_type": "code",
   "execution_count": 7,
   "metadata": {
    "scrolled": true
   },
   "outputs": [
    {
     "data": {
      "text/html": [
       "<div>\n",
       "<style scoped>\n",
       "    .dataframe tbody tr th:only-of-type {\n",
       "        vertical-align: middle;\n",
       "    }\n",
       "\n",
       "    .dataframe tbody tr th {\n",
       "        vertical-align: top;\n",
       "    }\n",
       "\n",
       "    .dataframe thead th {\n",
       "        text-align: right;\n",
       "    }\n",
       "</style>\n",
       "<table border=\"1\" class=\"dataframe\">\n",
       "  <thead>\n",
       "    <tr style=\"text-align: right;\">\n",
       "      <th></th>\n",
       "      <th>appno</th>\n",
       "      <th>application</th>\n",
       "      <th>country.alpha2</th>\n",
       "      <th>country.name</th>\n",
       "      <th>decisiondate</th>\n",
       "      <th>docname</th>\n",
       "      <th>doctypebranch</th>\n",
       "      <th>ecli</th>\n",
       "      <th>introductiondate</th>\n",
       "      <th>issue.0</th>\n",
       "      <th>...</th>\n",
       "      <th>ccl_article=6</th>\n",
       "      <th>ccl_article=7</th>\n",
       "      <th>ccl_article=8</th>\n",
       "      <th>ccl_article=9</th>\n",
       "      <th>ccl_article=p1</th>\n",
       "      <th>ccl_article=p12</th>\n",
       "      <th>ccl_article=p4</th>\n",
       "      <th>ccl_article=p6</th>\n",
       "      <th>ccl_article=p7</th>\n",
       "      <th>importance</th>\n",
       "    </tr>\n",
       "  </thead>\n",
       "  <tbody>\n",
       "    <tr>\n",
       "      <th>0</th>\n",
       "      <td>2052/08</td>\n",
       "      <td>MS WORD</td>\n",
       "      <td>ru</td>\n",
       "      <td>Russian Federation</td>\n",
       "      <td>NaN</td>\n",
       "      <td>CASE OF KOKOSHKINA v. RUSSIA</td>\n",
       "      <td>CHAMBER</td>\n",
       "      <td>ECLI:CE:ECHR:2009:0528JUD000205208</td>\n",
       "      <td>NaN</td>\n",
       "      <td>NaN</td>\n",
       "      <td>...</td>\n",
       "      <td>0</td>\n",
       "      <td>0</td>\n",
       "      <td>0</td>\n",
       "      <td>0</td>\n",
       "      <td>0</td>\n",
       "      <td>0</td>\n",
       "      <td>0</td>\n",
       "      <td>0</td>\n",
       "      <td>0</td>\n",
       "      <td>4</td>\n",
       "    </tr>\n",
       "    <tr>\n",
       "      <th>1</th>\n",
       "      <td>4728/07</td>\n",
       "      <td>MS WORD</td>\n",
       "      <td>tr</td>\n",
       "      <td>Turkey</td>\n",
       "      <td>NaN</td>\n",
       "      <td>CASE OF ÖZCAN v. TURKEY</td>\n",
       "      <td>COMMITTEE</td>\n",
       "      <td>ECLI:CE:ECHR:2018:0710JUD000472807</td>\n",
       "      <td>NaN</td>\n",
       "      <td>NaN</td>\n",
       "      <td>...</td>\n",
       "      <td>0</td>\n",
       "      <td>0</td>\n",
       "      <td>0</td>\n",
       "      <td>0</td>\n",
       "      <td>0</td>\n",
       "      <td>0</td>\n",
       "      <td>0</td>\n",
       "      <td>0</td>\n",
       "      <td>0</td>\n",
       "      <td>4</td>\n",
       "    </tr>\n",
       "  </tbody>\n",
       "</table>\n",
       "<p>2 rows × 328 columns</p>\n",
       "</div>"
      ],
      "text/plain": [
       "     appno application country.alpha2        country.name decisiondate  \\\n",
       "0  2052/08     MS WORD             ru  Russian Federation          NaN   \n",
       "1  4728/07     MS WORD             tr              Turkey          NaN   \n",
       "\n",
       "                        docname doctypebranch  \\\n",
       "0  CASE OF KOKOSHKINA v. RUSSIA       CHAMBER   \n",
       "1       CASE OF ÖZCAN v. TURKEY     COMMITTEE   \n",
       "\n",
       "                                 ecli introductiondate issue.0  ...  \\\n",
       "0  ECLI:CE:ECHR:2009:0528JUD000205208              NaN     NaN  ...   \n",
       "1  ECLI:CE:ECHR:2018:0710JUD000472807              NaN     NaN  ...   \n",
       "\n",
       "  ccl_article=6 ccl_article=7 ccl_article=8 ccl_article=9 ccl_article=p1  \\\n",
       "0             0             0             0             0              0   \n",
       "1             0             0             0             0              0   \n",
       "\n",
       "  ccl_article=p12 ccl_article=p4 ccl_article=p6 ccl_article=p7 importance  \n",
       "0               0              0              0              0          4  \n",
       "1               0              0              0              0          4  \n",
       "\n",
       "[2 rows x 328 columns]"
      ]
     },
     "execution_count": 7,
     "metadata": {},
     "output_type": "execute_result"
    }
   ],
   "source": [
    "df_train.head(2)"
   ]
  },
  {
   "cell_type": "code",
   "execution_count": 8,
   "metadata": {},
   "outputs": [
    {
     "data": {
      "text/plain": [
       "(8878, 328)"
      ]
     },
     "execution_count": 8,
     "metadata": {},
     "output_type": "execute_result"
    }
   ],
   "source": [
    "df_train.shape"
   ]
  },
  {
   "cell_type": "markdown",
   "metadata": {},
   "source": [
    "### Check target class balance\n",
    "* Target class 'importance' has 4 unique values\n",
    "* Class distribution is imbalanced and skewed towards low importance cases "
   ]
  },
  {
   "cell_type": "code",
   "execution_count": 9,
   "metadata": {},
   "outputs": [
    {
     "data": {
      "text/plain": [
       "4"
      ]
     },
     "execution_count": 9,
     "metadata": {},
     "output_type": "execute_result"
    }
   ],
   "source": [
    "df_train['importance'].nunique()"
   ]
  },
  {
   "cell_type": "code",
   "execution_count": 10,
   "metadata": {
    "scrolled": false
   },
   "outputs": [
    {
     "data": {
      "text/plain": [
       "<AxesSubplot:>"
      ]
     },
     "execution_count": 10,
     "metadata": {},
     "output_type": "execute_result"
    },
    {
     "data": {
      "image/png": "[encoded data removed]",
      "text/plain": [
       "<Figure size 432x288 with 1 Axes>"
      ]
     },
     "metadata": {
      "needs_background": "light"
     },
     "output_type": "display_data"
    }
   ],
   "source": [
    "df_train['importance'].value_counts().plot(kind='barh')"
   ]
  },
  {
   "cell_type": "markdown",
   "metadata": {},
   "source": [
    "### Read test data\n",
    "Check data features and size of test data"
   ]
  },
  {
   "cell_type": "code",
   "execution_count": 11,
   "metadata": {},
   "outputs": [],
   "source": [
    "# read in data from test.csv file to pandas dataframe.\n",
    "df_test = pd.read_csv('dataset/test.csv',  keep_default_na=True, sep=',\\s+', delimiter=',', skipinitialspace=True)"
   ]
  },
  {
   "cell_type": "code",
   "execution_count": 12,
   "metadata": {
    "scrolled": true
   },
   "outputs": [
    {
     "data": {
      "text/html": [
       "<div>\n",
       "<style scoped>\n",
       "    .dataframe tbody tr th:only-of-type {\n",
       "        vertical-align: middle;\n",
       "    }\n",
       "\n",
       "    .dataframe tbody tr th {\n",
       "        vertical-align: top;\n",
       "    }\n",
       "\n",
       "    .dataframe thead th {\n",
       "        text-align: right;\n",
       "    }\n",
       "</style>\n",
       "<table border=\"1\" class=\"dataframe\">\n",
       "  <thead>\n",
       "    <tr style=\"text-align: right;\">\n",
       "      <th></th>\n",
       "      <th>appno</th>\n",
       "      <th>application</th>\n",
       "      <th>country.alpha2</th>\n",
       "      <th>country.name</th>\n",
       "      <th>decisiondate</th>\n",
       "      <th>docname</th>\n",
       "      <th>doctypebranch</th>\n",
       "      <th>ecli</th>\n",
       "      <th>introductiondate</th>\n",
       "      <th>issue.0</th>\n",
       "      <th>...</th>\n",
       "      <th>ccl_article=5</th>\n",
       "      <th>ccl_article=6</th>\n",
       "      <th>ccl_article=7</th>\n",
       "      <th>ccl_article=8</th>\n",
       "      <th>ccl_article=9</th>\n",
       "      <th>ccl_article=p1</th>\n",
       "      <th>ccl_article=p12</th>\n",
       "      <th>ccl_article=p4</th>\n",
       "      <th>ccl_article=p6</th>\n",
       "      <th>ccl_article=p7</th>\n",
       "    </tr>\n",
       "  </thead>\n",
       "  <tbody>\n",
       "    <tr>\n",
       "      <th>0</th>\n",
       "      <td>1194/04</td>\n",
       "      <td>MS WORD</td>\n",
       "      <td>mk</td>\n",
       "      <td>North Macedonia</td>\n",
       "      <td>NaN</td>\n",
       "      <td>CASE OF CAMINSKI v. \"THE FORMER YUGOSLAV REPUB...</td>\n",
       "      <td>COMMITTEE</td>\n",
       "      <td>ECLI:CE:ECHR:2011:0224JUD000119404</td>\n",
       "      <td>NaN</td>\n",
       "      <td>NaN</td>\n",
       "      <td>...</td>\n",
       "      <td>0</td>\n",
       "      <td>1</td>\n",
       "      <td>0</td>\n",
       "      <td>0</td>\n",
       "      <td>0</td>\n",
       "      <td>0</td>\n",
       "      <td>0</td>\n",
       "      <td>0</td>\n",
       "      <td>0</td>\n",
       "      <td>0</td>\n",
       "    </tr>\n",
       "    <tr>\n",
       "      <th>1</th>\n",
       "      <td>53865/11</td>\n",
       "      <td>MS WORD</td>\n",
       "      <td>ua</td>\n",
       "      <td>Ukraine</td>\n",
       "      <td>NaN</td>\n",
       "      <td>CASE OF KUSHCH v. UKRAINE</td>\n",
       "      <td>CHAMBER</td>\n",
       "      <td>ECLI:CE:ECHR:2015:1203JUD005386511</td>\n",
       "      <td>NaN</td>\n",
       "      <td>NaN</td>\n",
       "      <td>...</td>\n",
       "      <td>1</td>\n",
       "      <td>0</td>\n",
       "      <td>0</td>\n",
       "      <td>0</td>\n",
       "      <td>0</td>\n",
       "      <td>0</td>\n",
       "      <td>0</td>\n",
       "      <td>0</td>\n",
       "      <td>0</td>\n",
       "      <td>0</td>\n",
       "    </tr>\n",
       "  </tbody>\n",
       "</table>\n",
       "<p>2 rows × 327 columns</p>\n",
       "</div>"
      ],
      "text/plain": [
       "      appno application country.alpha2     country.name decisiondate  \\\n",
       "0   1194/04     MS WORD             mk  North Macedonia          NaN   \n",
       "1  53865/11     MS WORD             ua          Ukraine          NaN   \n",
       "\n",
       "                                             docname doctypebranch  \\\n",
       "0  CASE OF CAMINSKI v. \"THE FORMER YUGOSLAV REPUB...     COMMITTEE   \n",
       "1                          CASE OF KUSHCH v. UKRAINE       CHAMBER   \n",
       "\n",
       "                                 ecli introductiondate issue.0  ...  \\\n",
       "0  ECLI:CE:ECHR:2011:0224JUD000119404              NaN     NaN  ...   \n",
       "1  ECLI:CE:ECHR:2015:1203JUD005386511              NaN     NaN  ...   \n",
       "\n",
       "  ccl_article=5 ccl_article=6 ccl_article=7 ccl_article=8 ccl_article=9  \\\n",
       "0             0             1             0             0             0   \n",
       "1             1             0             0             0             0   \n",
       "\n",
       "  ccl_article=p1 ccl_article=p12 ccl_article=p4 ccl_article=p6 ccl_article=p7  \n",
       "0              0               0              0              0              0  \n",
       "1              0               0              0              0              0  \n",
       "\n",
       "[2 rows x 327 columns]"
      ]
     },
     "execution_count": 12,
     "metadata": {},
     "output_type": "execute_result"
    }
   ],
   "source": [
    "df_test.head(2)"
   ]
  },
  {
   "cell_type": "code",
   "execution_count": 13,
   "metadata": {},
   "outputs": [
    {
     "data": {
      "text/plain": [
       "(4760, 327)"
      ]
     },
     "execution_count": 13,
     "metadata": {},
     "output_type": "execute_result"
    }
   ],
   "source": [
    "df_test.shape"
   ]
  },
  {
   "cell_type": "markdown",
   "metadata": {},
   "source": [
    "## Concat train and test data to form complete dataset for EDA\n",
    "* **Concat train and test data to perform EDA**\n",
    "* **Drop target variable *'importance'* from train data to match number of features in both dataframes**"
   ]
  },
  {
   "cell_type": "code",
   "execution_count": 14,
   "metadata": {},
   "outputs": [],
   "source": [
    "df = pd.concat([df_train.drop('importance', axis=1), df_test])"
   ]
  },
  {
   "cell_type": "code",
   "execution_count": 15,
   "metadata": {
    "scrolled": true
   },
   "outputs": [
    {
     "data": {
      "text/html": [
       "<div>\n",
       "<style scoped>\n",
       "    .dataframe tbody tr th:only-of-type {\n",
       "        vertical-align: middle;\n",
       "    }\n",
       "\n",
       "    .dataframe tbody tr th {\n",
       "        vertical-align: top;\n",
       "    }\n",
       "\n",
       "    .dataframe thead th {\n",
       "        text-align: right;\n",
       "    }\n",
       "</style>\n",
       "<table border=\"1\" class=\"dataframe\">\n",
       "  <thead>\n",
       "    <tr style=\"text-align: right;\">\n",
       "      <th></th>\n",
       "      <th>appno</th>\n",
       "      <th>application</th>\n",
       "      <th>country.alpha2</th>\n",
       "      <th>country.name</th>\n",
       "      <th>decisiondate</th>\n",
       "      <th>docname</th>\n",
       "      <th>doctypebranch</th>\n",
       "      <th>ecli</th>\n",
       "      <th>introductiondate</th>\n",
       "      <th>issue.0</th>\n",
       "      <th>...</th>\n",
       "      <th>ccl_article=5</th>\n",
       "      <th>ccl_article=6</th>\n",
       "      <th>ccl_article=7</th>\n",
       "      <th>ccl_article=8</th>\n",
       "      <th>ccl_article=9</th>\n",
       "      <th>ccl_article=p1</th>\n",
       "      <th>ccl_article=p12</th>\n",
       "      <th>ccl_article=p4</th>\n",
       "      <th>ccl_article=p6</th>\n",
       "      <th>ccl_article=p7</th>\n",
       "    </tr>\n",
       "  </thead>\n",
       "  <tbody>\n",
       "    <tr>\n",
       "      <th>0</th>\n",
       "      <td>2052/08</td>\n",
       "      <td>MS WORD</td>\n",
       "      <td>ru</td>\n",
       "      <td>Russian Federation</td>\n",
       "      <td>NaN</td>\n",
       "      <td>CASE OF KOKOSHKINA v. RUSSIA</td>\n",
       "      <td>CHAMBER</td>\n",
       "      <td>ECLI:CE:ECHR:2009:0528JUD000205208</td>\n",
       "      <td>NaN</td>\n",
       "      <td>NaN</td>\n",
       "      <td>...</td>\n",
       "      <td>1</td>\n",
       "      <td>0</td>\n",
       "      <td>0</td>\n",
       "      <td>0</td>\n",
       "      <td>0</td>\n",
       "      <td>0</td>\n",
       "      <td>0</td>\n",
       "      <td>0</td>\n",
       "      <td>0</td>\n",
       "      <td>0</td>\n",
       "    </tr>\n",
       "    <tr>\n",
       "      <th>1</th>\n",
       "      <td>4728/07</td>\n",
       "      <td>MS WORD</td>\n",
       "      <td>tr</td>\n",
       "      <td>Turkey</td>\n",
       "      <td>NaN</td>\n",
       "      <td>CASE OF ÖZCAN v. TURKEY</td>\n",
       "      <td>COMMITTEE</td>\n",
       "      <td>ECLI:CE:ECHR:2018:0710JUD000472807</td>\n",
       "      <td>NaN</td>\n",
       "      <td>NaN</td>\n",
       "      <td>...</td>\n",
       "      <td>1</td>\n",
       "      <td>0</td>\n",
       "      <td>0</td>\n",
       "      <td>0</td>\n",
       "      <td>0</td>\n",
       "      <td>0</td>\n",
       "      <td>0</td>\n",
       "      <td>0</td>\n",
       "      <td>0</td>\n",
       "      <td>0</td>\n",
       "    </tr>\n",
       "  </tbody>\n",
       "</table>\n",
       "<p>2 rows × 327 columns</p>\n",
       "</div>"
      ],
      "text/plain": [
       "     appno application country.alpha2        country.name decisiondate  \\\n",
       "0  2052/08     MS WORD             ru  Russian Federation          NaN   \n",
       "1  4728/07     MS WORD             tr              Turkey          NaN   \n",
       "\n",
       "                        docname doctypebranch  \\\n",
       "0  CASE OF KOKOSHKINA v. RUSSIA       CHAMBER   \n",
       "1       CASE OF ÖZCAN v. TURKEY     COMMITTEE   \n",
       "\n",
       "                                 ecli introductiondate issue.0  ...  \\\n",
       "0  ECLI:CE:ECHR:2009:0528JUD000205208              NaN     NaN  ...   \n",
       "1  ECLI:CE:ECHR:2018:0710JUD000472807              NaN     NaN  ...   \n",
       "\n",
       "  ccl_article=5 ccl_article=6 ccl_article=7 ccl_article=8 ccl_article=9  \\\n",
       "0             1             0             0             0             0   \n",
       "1             1             0             0             0             0   \n",
       "\n",
       "  ccl_article=p1 ccl_article=p12 ccl_article=p4 ccl_article=p6 ccl_article=p7  \n",
       "0              0               0              0              0              0  \n",
       "1              0               0              0              0              0  \n",
       "\n",
       "[2 rows x 327 columns]"
      ]
     },
     "execution_count": 15,
     "metadata": {},
     "output_type": "execute_result"
    }
   ],
   "source": [
    "df.head(2)"
   ]
  },
  {
   "cell_type": "code",
   "execution_count": 16,
   "metadata": {
    "scrolled": true
   },
   "outputs": [
    {
     "data": {
      "text/plain": [
       "(13638, 327)"
      ]
     },
     "execution_count": 16,
     "metadata": {},
     "output_type": "execute_result"
    }
   ],
   "source": [
    "df.shape"
   ]
  },
  {
   "cell_type": "markdown",
   "metadata": {},
   "source": [
    "### Count of Unique and null instances in features\n",
    "We can locate primary key features of dataframe : **'ecli', 'itemid'**"
   ]
  },
  {
   "cell_type": "code",
   "execution_count": 17,
   "metadata": {
    "scrolled": true
   },
   "outputs": [
    {
     "name": "stdout",
     "output_type": "stream",
     "text": [
      "Feature                            example                     unique    null    % null\n",
      "---------------------------------  ------------------------  --------  ------  --------\n",
      "appno                              21155/18,...                 13467       0      0\n",
      "application                        MS WORD,...                      1       0      0\n",
      "country.alpha2                     ad,...                          46       0      0\n",
      "country.name                       Andorra,...                     46       0      0\n",
      "decisiondate                       20/02/2007,...                 274   12603     92.41\n",
      "docname                            CASE OF VOGLREITER v,...     13201       0      0\n",
      "doctypebranch                      GRANDCHAMBER,...                 3       0      0\n",
      "ecli                               ECLI:CE:ECHR:2019:09,...     13638       0      0\n",
      "introductiondate                   07/05/2004,...                 720   12602     92.4\n",
      "issue.0                            Bankruptcy Act (no. ,...      3095   10162     74.51\n",
      "issue.1                            Crim 22 August 19121,...      1710   11780     86.38\n",
      "issue.10                           Royal Decree of 23 J,...        29   13609     99.79\n",
      "issue.11                           Supreme Administrati,...        25   13613     99.82\n",
      "issue.12                           Terrorism Act 2000,...          21   13617     99.85\n",
      "issue.13                           Court of Justice of ,...        16   13622     99.88\n",
      "issue.14                           Court of Justice of ,...        14   13624     99.9\n",
      "issue.15                           Court of Justice of ,...        11   13627     99.92\n",
      "issue.16                           Public Health Code, ,...         7   13631     99.95\n",
      "issue.17                           Sections 1-3 of the ,...         5   13633     99.96\n",
      "issue.18                           Sections 10 and 38-4,...         4   13634     99.97\n",
      "issue.19                           Sections 13, 14, 16,,...         4   13634     99.97\n",
      "issue.2                            Crim. 14 January 197,...       918   12641     92.69\n",
      "issue.20                           Sections 28 and 33 o,...         4   13634     99.97\n",
      "issue.21                           Sections 4, 6 and 9 ,...         3   13635     99.98\n",
      "issue.22                           The 1976 Citizenship,...         3   13635     99.98\n",
      "issue.23                           the 1990 Statement o,...         3   13635     99.98\n",
      "issue.24                           Law no. 93-1417 of 3,...         1   13637     99.99\n",
      "issue.25                           Minister of the Inte,...         1   13637     99.99\n",
      "issue.26                           Ordinance no. 45-265,...         1   13637     99.99\n",
      "issue.3                            Crim. 2 November 197,...       533   13061     95.77\n",
      "issue.4                            Crim. 24 October 196,...       306   13321     97.68\n",
      "issue.5                            Freedom of the Press,...       186   13449     98.61\n",
      "issue.6                            Freedom of the Press,...       117   13521     99.14\n",
      "issue.7                            Law no. 90-615 of 13,...        84   13554     99.38\n",
      "issue.8                            Legislative Decree n,...        47   13591     99.66\n",
      "issue.9                            Presidential Decree ,...        35   13603     99.74\n",
      "itemid                             001-195866,...               13638       0      0\n",
      "judgementdate                      22/07/1999,...                2088       0      0\n",
      "kpdate                             22/07/1999,...                2088       0      0\n",
      "languageisocode                    ENG,...                          1       0      0\n",
      "originatingbody                    15,...                          13       0      0\n",
      "originatingbody_name               Plenary,...                     13       0      0\n",
      "originatingbody_type               Court,...                        1       0      0\n",
      "parties.0                          VOGLREITER,...               12535       0      0\n",
      "parties.1                          AUSTRIA (No. 3),...            107       6      0.04\n",
      "parties.2                          RUSSIA,...                       1   13637     99.99\n",
      "rank                               1161.9296875,...              6484       0      0\n",
      "respondent.0                       AND,...                         46       0      0\n",
      "respondent.1                       GBR,...                         17   13581     99.58\n",
      "respondent.2                       UKR,...                          2   13635     99.98\n",
      "respondent.3                       SRB,...                          1   13636     99.99\n",
      "respondent.4                       SVN,...                          1   13636     99.99\n",
      "respondentOrderEng                 2,...                           46       0      0\n",
      "separateopinion                    True,...                         2       0      0\n",
      "sharepointid                       491455,...                   13638       0      0\n",
      "typedescription                    19,...                           5       0      0\n",
      "article=3                          0,...                            2       0      0\n",
      "article=6                          1,...                            2       0      0\n",
      "article=P1                         1,...                            2       0      0\n",
      "article=5                          0,...                            2       0      0\n",
      "article=8                          1,...                            2       0      0\n",
      "article=13                         1,...                            2       0      0\n",
      "article=10                         1,...                            2       0      0\n",
      "article=2                          1,...                            2       0      0\n",
      "article=34                         1,...                            2       0      0\n",
      "article=41                         1,...                            2       0      0\n",
      "article=38                         1,...                            2       0      0\n",
      "article=35                         1,...                            2       0      0\n",
      "article=4                          1,...                            2       0      0\n",
      "article=29                         1,...                            2       0      0\n",
      "article=14                         1,...                            2       0      0\n",
      "article=P12                        1,...                            2       0      0\n",
      "article=9                          1,...                            2       0      0\n",
      "article=1                          1,...                            2       0      0\n",
      "article=11                         1,...                            2       0      0\n",
      "article=46                         1,...                            2       0      0\n",
      "article=P4                         1,...                            2       0      0\n",
      "article=17                         1,...                            2       0      0\n",
      "article=18                         1,...                            2       0      0\n",
      "article=7                          1,...                            2       0      0\n",
      "article=                           1,...                            2       0      0\n",
      "article=37                         1,...                            2       0      0\n",
      "article=P7                         1,...                            2       0      0\n",
      "article=57                         1,...                            2       0      0\n",
      "article=26                         1,...                            2       0      0\n",
      "article=27                         1,...                            2       0      0\n",
      "article=36                         1,...                            2       0      0\n",
      "article=30                         1,...                            2       0      0\n",
      "article=12                         1,...                            2       0      0\n",
      "article=56                         1,...                            2       0      0\n",
      "article=39                         1,...                            2       0      0\n",
      "article=15                         1,...                            2       0      0\n",
      "article=25                         1,...                            2       0      0\n",
      "article=P6                         1,...                            2       0      0\n",
      "article=19                         1,...                            2       0      0\n",
      "article=32                         1,...                            2       0      0\n",
      "article=33                         1,...                            2       0      0\n",
      "article=53                         1,...                            2       0      0\n",
      "article=28                         1,...                            2       0      0\n",
      "article=43                         1,...                            2       0      0\n",
      "article=52                         1,...                            2       0      0\n",
      "article=P13                        1,...                            2       0      0\n",
      "article=16                         1,...                            2       0      0\n",
      "documentcollectionid=CASELAW       1,...                            1       0      0\n",
      "documentcollectionid=JUDGMENTS     1,...                            1       0      0\n",
      "documentcollectionid=CHAMBER       0,...                            2       0      0\n",
      "documentcollectionid=ENG           1,...                            1       0      0\n",
      "documentcollectionid=COMMITTEE     1,...                            2       0      0\n",
      "documentcollectionid=GRANDCHAMBER  1,...                            2       0      0\n",
      "applicability=                     0,...                            2       0      0\n",
      "applicability=36                   1,...                            2       0      0\n",
      "applicability=43                   1,...                            2       0      0\n",
      "applicability=41                   1,...                            2       0      0\n",
      "applicability=55                   1,...                            2       0      0\n",
      "applicability=3                    1,...                            2       0      0\n",
      "applicability=22                   1,...                            2       0      0\n",
      "applicability=60                   1,...                            2       0      0\n",
      "applicability=58                   1,...                            2       0      0\n",
      "applicability=25                   1,...                            2       0      0\n",
      "applicability=47                   1,...                            2       0      0\n",
      "applicability=12                   1,...                            2       0      0\n",
      "applicability=38                   1,...                            2       0      0\n",
      "applicability=20                   1,...                            2       0      0\n",
      "applicability=18                   1,...                            2       0      0\n",
      "applicability=24                   1,...                            2       0      0\n",
      "applicability=62                   1,...                            2       0      0\n",
      "applicability=21                   1,...                            2       0      0\n",
      "applicability=23                   1,...                            2       0      0\n",
      "applicability=8                    1,...                            2       0      0\n",
      "applicability=26                   1,...                            2       0      0\n",
      "applicability=53                   1,...                            2       0      0\n",
      "applicability=15                   1,...                            2       0      0\n",
      "applicability=48                   1,...                            2       0      0\n",
      "applicability=14                   1,...                            2       0      0\n",
      "applicability=51                   1,...                            2       0      0\n",
      "applicability=13                   1,...                            2       0      0\n",
      "applicability=5                    1,...                            2       0      0\n",
      "applicability=7                    1,...                            2       0      0\n",
      "applicability=50                   1,...                            2       0      0\n",
      "applicability=52                   1,...                            2       0      0\n",
      "applicability=28                   1,...                            2       0      0\n",
      "applicability=29                   1,...                            2       0      0\n",
      "applicability=31                   1,...                            2       0      0\n",
      "applicability=6                    1,...                            2       0      0\n",
      "applicability=81                   1,...                            2       0      0\n",
      "applicability=66                   1,...                            2       0      0\n",
      "applicability=49                   1,...                            2       0      0\n",
      "applicability=33                   1,...                            2       0      0\n",
      "applicability=63                   1,...                            2       0      0\n",
      "applicability=68                   1,...                            2       0      0\n",
      "applicability=46                   1,...                            2       0      0\n",
      "applicability=19                   1,...                            2       0      0\n",
      "applicability=40                   1,...                            2       0      0\n",
      "applicability=17                   1,...                            2       0      0\n",
      "applicability=32                   1,...                            2       0      0\n",
      "applicability=72                   1,...                            2       0      0\n",
      "applicability=34                   1,...                            2       0      0\n",
      "applicability=35                   1,...                            2       0      0\n",
      "applicability=54                   1,...                            2       0      0\n",
      "applicability=27                   1,...                            2       0      0\n",
      "applicability=16                   1,...                            2       0      0\n",
      "applicability=64                   1,...                            2       0      0\n",
      "applicability=57                   1,...                            2       0      0\n",
      "applicability=56                   1,...                            2       0      0\n",
      "applicability=2                    1,...                            2       0      0\n",
      "applicability=4                    1,...                            2       0      0\n",
      "applicability=67                   1,...                            2       0      0\n",
      "applicability=77                   1,...                            2       0      0\n",
      "applicability=71                   1,...                            2       0      0\n",
      "applicability=59                   1,...                            2       0      0\n",
      "paragraphs=3                       0,...                            2       0      0\n",
      "paragraphs=6                       1,...                            2       0      0\n",
      "paragraphs=6-1                     1,...                            2       0      0\n",
      "paragraphs=6-3-c                   1,...                            2       0      0\n",
      "paragraphs=P1-3                    1,...                            2       0      0\n",
      "paragraphs=5                       0,...                            2       0      0\n",
      "paragraphs=5-1                     1,...                            2       0      0\n",
      "paragraphs=P1-1                    1,...                            2       0      0\n",
      "paragraphs=8                       1,...                            2       0      0\n",
      "paragraphs=8-1                     1,...                            2       0      0\n",
      "paragraphs=13                      1,...                            2       0      0\n",
      "paragraphs=10                      1,...                            2       0      0\n",
      "paragraphs=10-2                    1,...                            2       0      0\n",
      "paragraphs=10-1                    1,...                            2       0      0\n",
      "paragraphs=35-1                    1,...                            2       0      0\n",
      "paragraphs=2                       1,...                            2       0      0\n",
      "paragraphs=2-1                     1,...                            2       0      0\n",
      "paragraphs=34                      1,...                            2       0      0\n",
      "paragraphs=41                      1,...                            2       0      0\n",
      "paragraphs=38                      1,...                            2       0      0\n",
      "paragraphs=35                      1,...                            2       0      0\n",
      "paragraphs=8-2                     1,...                            2       0      0\n",
      "paragraphs=35-3-a                  1,...                            2       0      0\n",
      "paragraphs=29-3                    1,...                            2       0      0\n",
      "paragraphs=4                       1,...                            2       0      0\n",
      "paragraphs=29                      1,...                            2       0      0\n",
      "paragraphs=P1-1-1                  1,...                            2       0      0\n",
      "paragraphs=5-1-e                   1,...                            2       0      0\n",
      "paragraphs=6-2                     1,...                            2       0      0\n",
      "paragraphs=5-1-c                   1,...                            2       0      0\n",
      "paragraphs=14                      1,...                            2       0      0\n",
      "paragraphs=35-3                    1,...                            2       0      0\n",
      "paragraphs=6-3-d                   1,...                            2       0      0\n",
      "paragraphs=5-1-b                   1,...                            2       0      0\n",
      "paragraphs=5-5                     1,...                            2       0      0\n",
      "paragraphs=P12-1                   1,...                            2       0      0\n",
      "paragraphs=11-1                    1,...                            2       0      0\n",
      "paragraphs=11-2                    1,...                            2       0      0\n",
      "paragraphs=9                       1,...                            2       0      0\n",
      "paragraphs=9-1                     1,...                            2       0      0\n",
      "paragraphs=1                       1,...                            2       0      0\n",
      "paragraphs=11                      1,...                            2       0      0\n",
      "paragraphs=6-3                     1,...                            2       0      0\n",
      "paragraphs=5-3                     1,...                            2       0      0\n",
      "paragraphs=5-4                     1,...                            2       0      0\n",
      "paragraphs=46                      1,...                            2       0      0\n",
      "paragraphs=46-2                    1,...                            2       0      0\n",
      "paragraphs=5-1-a                   1,...                            2       0      0\n",
      "paragraphs=P4-2                    1,...                            2       0      0\n",
      "paragraphs=P4-2-2                  1,...                            2       0      0\n",
      "paragraphs=17                      1,...                            2       0      0\n",
      "paragraphs=18                      1,...                            2       0      0\n",
      "paragraphs=7                       1,...                            2       0      0\n",
      "paragraphs=7-1                     1,...                            2       0      0\n",
      "paragraphs=                        1,...                            2       0      0\n",
      "paragraphs=4-3-d                   1,...                            2       0      0\n",
      "paragraphs=4-2                     1,...                            2       0      0\n",
      "paragraphs=6-3-e                   1,...                            2       0      0\n",
      "paragraphs=9-2                     1,...                            2       0      0\n",
      "paragraphs=P1-1-2                  1,...                            2       0      0\n",
      "paragraphs=P4-2-1                  1,...                            2       0      0\n",
      "paragraphs=37-1-c                  1,...                            2       0      0\n",
      "paragraphs=37                      1,...                            2       0      0\n",
      "paragraphs=P7-4                    1,...                            2       0      0\n",
      "paragraphs=4-1                     1,...                            2       0      0\n",
      "paragraphs=57                      1,...                            2       0      0\n",
      "paragraphs=6-3-b                   1,...                            2       0      0\n",
      "paragraphs=35-3-b                  1,...                            2       0      0\n",
      "paragraphs=5-1-f                   1,...                            2       0      0\n",
      "paragraphs=35-4                    1,...                            2       0      0\n",
      "paragraphs=P4-2-3                  1,...                            2       0      0\n",
      "paragraphs=2-2                     1,...                            2       0      0\n",
      "paragraphs=26                      1,...                            2       0      0\n",
      "paragraphs=27-2                    1,...                            2       0      0\n",
      "paragraphs=27                      1,...                            2       0      0\n",
      "paragraphs=36                      1,...                            2       0      0\n",
      "paragraphs=36-1                    1,...                            2       0      0\n",
      "paragraphs=37-1                    1,...                            2       0      0\n",
      "paragraphs=P7-2                    1,...                            2       0      0\n",
      "paragraphs=35-2                    1,...                            2       0      0\n",
      "paragraphs=5-1-d                   1,...                            2       0      0\n",
      "paragraphs=6-3-a                   1,...                            2       0      0\n",
      "paragraphs=30                      1,...                            2       0      0\n",
      "paragraphs=46-1                    1,...                            2       0      0\n",
      "paragraphs=12                      1,...                            2       0      0\n",
      "paragraphs=P7-1                    1,...                            2       0      0\n",
      "paragraphs=P7-1-1                  1,...                            2       0      0\n",
      "paragraphs=36-2                    1,...                            2       0      0\n",
      "paragraphs=5-2                     1,...                            2       0      0\n",
      "paragraphs=P1-2                    1,...                            2       0      0\n",
      "paragraphs=P1-4                    1,...                            2       0      0\n",
      "paragraphs=56-3                    1,...                            2       0      0\n",
      "paragraphs=56                      1,...                            2       0      0\n",
      "paragraphs=56-1                    1,...                            2       0      0\n",
      "paragraphs=P7-1-2                  1,...                            2       0      0\n",
      "paragraphs=38-1-a                  1,...                            2       0      0\n",
      "paragraphs=37-1-b                  1,...                            2       0      0\n",
      "paragraphs=39                      1,...                            2       0      0\n",
      "paragraphs=15-1                    1,...                            2       0      0\n",
      "paragraphs=15                      1,...                            2       0      0\n",
      "paragraphs=7-2                     1,...                            2       0      0\n",
      "paragraphs=P4-4                    1,...                            2       0      0\n",
      "paragraphs=15-3                    1,...                            2       0      0\n",
      "paragraphs=25-1                    1,...                            2       0      0\n",
      "paragraphs=25                      1,...                            2       0      0\n",
      "paragraphs=37-1-a                  1,...                            2       0      0\n",
      "paragraphs=P6-1                    1,...                            2       0      0\n",
      "paragraphs=P7-5                    1,...                            2       0      0\n",
      "paragraphs=19                      1,...                            2       0      0\n",
      "paragraphs=32                      1,...                            2       0      0\n",
      "paragraphs=P7-3                    1,...                            2       0      0\n",
      "paragraphs=33                      1,...                            2       0      0\n",
      "paragraphs=28-1-a                  1,...                            2       0      0\n",
      "paragraphs=53                      1,...                            2       0      0\n",
      "paragraphs=28                      1,...                            2       0      0\n",
      "paragraphs=35-2-b                  1,...                            2       0      0\n",
      "paragraphs=43                      1,...                            2       0      0\n",
      "paragraphs=4-3-b                   1,...                            2       0      0\n",
      "paragraphs=4-3-a                   1,...                            2       0      0\n",
      "paragraphs=4-3                     1,...                            2       0      0\n",
      "paragraphs=28-3                    1,...                            2       0      0\n",
      "paragraphs=52                      1,...                            2       0      0\n",
      "paragraphs=P13-1                   1,...                            2       0      0\n",
      "paragraphs=P7-4-1                  1,...                            2       0      0\n",
      "paragraphs=16                      1,...                            2       0      0\n",
      "paragraphs=P4-3                    1,...                            2       0      0\n",
      "paragraphs=27-1-b                  1,...                            2       0      0\n",
      "paragraphs=29-1                    1,...                            2       0      0\n",
      "paragraphs=32-2                    1,...                            2       0      0\n",
      "paragraphs=28-1                    1,...                            2       0      0\n",
      "paragraphs=P6-2                    1,...                            2       0      0\n",
      "paragraphs=46-4                    1,...                            2       0      0\n",
      "ccl_article=1                      -1,...                           3       0      0\n",
      "ccl_article=10                     -1,...                           3       0      0\n",
      "ccl_article=11                     -1,...                           3       0      0\n",
      "ccl_article=12                     1,...                            3       0      0\n",
      "ccl_article=13                     -1,...                           3       0      0\n",
      "ccl_article=14                     1,...                            3       0      0\n",
      "ccl_article=17                     -1,...                           2       0      0\n",
      "ccl_article=18                     -1,...                           2       0      0\n",
      "ccl_article=2                      -1,...                           3       0      0\n",
      "ccl_article=25                     1,...                            3       0      0\n",
      "ccl_article=3                      -1,...                           3       0      0\n",
      "ccl_article=34                     1,...                            3       0      0\n",
      "ccl_article=38                     1,...                            3       0      0\n",
      "ccl_article=4                      1,...                            3       0      0\n",
      "ccl_article=46                     1,...                            2       0      0\n",
      "ccl_article=5                      -1,...                           3       0      0\n",
      "ccl_article=6                      -1,...                           3       0      0\n",
      "ccl_article=7                      1,...                            3       0      0\n",
      "ccl_article=8                      1,...                            3       0      0\n",
      "ccl_article=9                      -1,...                           3       0      0\n",
      "ccl_article=p1                     -1,...                           3       0      0\n",
      "ccl_article=p12                    1,...                            2       0      0\n",
      "ccl_article=p4                     -1,...                           3       0      0\n",
      "ccl_article=p6                     1,...                            2       0      0\n",
      "ccl_article=p7                     1,...                            3       0      0 \n",
      "\n"
     ]
    }
   ],
   "source": [
    "df_info(df)"
   ]
  },
  {
   "cell_type": "markdown",
   "metadata": {},
   "source": [
    "### find duplicate samples or features in dataset"
   ]
  },
  {
   "cell_type": "markdown",
   "metadata": {},
   "source": [
    "**duplicate samples are NOT found**"
   ]
  },
  {
   "cell_type": "code",
   "execution_count": 18,
   "metadata": {},
   "outputs": [
    {
     "name": "stdout",
     "output_type": "stream",
     "text": [
      "Number of duplicate (excluding first) rows in the table is:  0\n",
      "Number of duplicate rows (including first) in the table is: 0\n"
     ]
    }
   ],
   "source": [
    "# Check for duplicate rows\n",
    "#Print the number of duplicate rows, without the original rows that were duplicated\n",
    "\n",
    "# Check for duplicate rows for primary key \"Animal ID\"\n",
    "print('Number of duplicate (excluding first) rows in the table is: ', df.duplicated(subset = \"ecli\").sum()) \n",
    "\n",
    "# Use \"keep=False\" to mark all duplicates as true, including the original rows that were duplicated.\n",
    "print('Number of duplicate rows (including first) in the table is:', df[df.duplicated(subset = \"ecli\",keep=False)].shape[0])\n"
   ]
  },
  {
   "cell_type": "markdown",
   "metadata": {},
   "source": [
    "**50 duplicate features are FOUND**"
   ]
  },
  {
   "cell_type": "code",
   "execution_count": 19,
   "metadata": {},
   "outputs": [
    {
     "name": "stdout",
     "output_type": "stream",
     "text": [
      "Number of duplicate (excluding first) columns in the table is:  50\n",
      "Number of duplicate (including first) columns in the table is:  97\n"
     ]
    }
   ],
   "source": [
    "# Check for duplicate columns\n",
    "#First transpose the df so columns become rows, then apply the same check as above\n",
    "dfT = df.T\n",
    "\n",
    "# Check for duplicate columns.\n",
    "print(\"Number of duplicate (excluding first) columns in the table is: \", dfT.duplicated().sum())\n",
    "\n",
    "#Print the number of duplicates, including the original columns that were duplicated\n",
    "print(\"Number of duplicate (including first) columns in the table is: \",  dfT[dfT.duplicated(keep=False)].shape[0])"
   ]
  },
  {
   "cell_type": "markdown",
   "metadata": {},
   "source": [
    "**Result : Duplicate columns (features) do exist**\n",
    " - **data samples** : Duplicate samples do not exist. Feature **ecli** has 13638 unique values - which is equal to number of data entries. Logically, its a primary key for the dataset. Hence, duplicacies are checked with its respect and none are found.\n",
    " - **features** : Total 97 features are invoved in duplicate entries and 50 features are duplicates of another 47 distinct features. Visualization in following cell helps to check out relations. "
   ]
  },
  {
   "cell_type": "markdown",
   "metadata": {},
   "source": [
    "### Locate Duplicate Features"
   ]
  },
  {
   "cell_type": "code",
   "execution_count": 20,
   "metadata": {
    "scrolled": true
   },
   "outputs": [
    {
     "name": "stdout",
     "output_type": "stream",
     "text": [
      "duplicate features ['paragraphs=34', 'paragraphs=30', 'paragraphs=15', 'paragraphs=P12-1', 'paragraphs=', 'paragraphs=53', 'paragraphs=46', 'paragraphs=13', 'paragraphs=14', 'documentcollectionid=JUDGMENTS', 'paragraphs=37', 'paragraphs=P13-1', 'applicability=31', 'paragraphs=11', 'paragraphs=1', 'paragraphs=27', 'paragraphs=17', 'paragraphs=35', 'applicability=29', 'paragraphs=19', 'paragraphs=5', 'paragraphs=8', 'paragraphs=16', 'kpdate', 'paragraphs=29', 'paragraphs=10', 'paragraphs=43', 'paragraphs=25', 'paragraphs=7', 'paragraphs=6', 'paragraphs=41', 'documentcollectionid=ENG', 'paragraphs=2', 'applicability=15', 'paragraphs=28', 'paragraphs=33', 'paragraphs=3', 'paragraphs=12', 'paragraphs=P7-1-1', 'paragraphs=32', 'paragraphs=9', 'paragraphs=39', 'paragraphs=57', 'paragraphs=26', 'paragraphs=56', 'paragraphs=18', 'paragraphs=4', 'paragraphs=52', 'paragraphs=38', 'paragraphs=36']\n"
     ]
    }
   ],
   "source": [
    "retained_columns = dfT.drop_duplicates(keep=\"first\").T.columns.values\n",
    "duplicate_features = list(set(list(df.columns)) - set(retained_columns))\n",
    "print(\"duplicate features\",duplicate_features)"
   ]
  },
  {
   "cell_type": "markdown",
   "metadata": {},
   "source": [
    "## Correlations"
   ]
  },
  {
   "cell_type": "markdown",
   "metadata": {},
   "source": [
    "### Convert datatypes\n",
    "* Categorical variables are retained as objects\n",
    "* Integer and one hot encoded cat variables are inferred as 'int' types"
   ]
  },
  {
   "cell_type": "code",
   "execution_count": 21,
   "metadata": {},
   "outputs": [
    {
     "name": "stdout",
     "output_type": "stream",
     "text": [
      "Feature                            Data Type\n",
      "---------------------------------  -----------\n",
      "appno                              object\n",
      "application                        object\n",
      "country.alpha2                     object\n",
      "country.name                       object\n",
      "decisiondate                       object\n",
      "docname                            object\n",
      "doctypebranch                      object\n",
      "ecli                               object\n",
      "introductiondate                   object\n",
      "issue.0                            object\n",
      "issue.1                            object\n",
      "issue.10                           object\n",
      "issue.11                           object\n",
      "issue.12                           object\n",
      "issue.13                           object\n",
      "issue.14                           object\n",
      "issue.15                           object\n",
      "issue.16                           object\n",
      "issue.17                           object\n",
      "issue.18                           object\n",
      "issue.19                           object\n",
      "issue.2                            object\n",
      "issue.20                           object\n",
      "issue.21                           object\n",
      "issue.22                           object\n",
      "issue.23                           object\n",
      "issue.24                           object\n",
      "issue.25                           object\n",
      "issue.26                           object\n",
      "issue.3                            object\n",
      "issue.4                            object\n",
      "issue.5                            object\n",
      "issue.6                            object\n",
      "issue.7                            object\n",
      "issue.8                            object\n",
      "issue.9                            object\n",
      "itemid                             object\n",
      "judgementdate                      object\n",
      "kpdate                             object\n",
      "languageisocode                    object\n",
      "originatingbody                    Int64\n",
      "originatingbody_name               object\n",
      "originatingbody_type               object\n",
      "parties.0                          object\n",
      "parties.1                          object\n",
      "parties.2                          object\n",
      "rank                               Float64\n",
      "respondent.0                       object\n",
      "respondent.1                       object\n",
      "respondent.2                       object\n",
      "respondent.3                       object\n",
      "respondent.4                       object\n",
      "respondentOrderEng                 Int64\n",
      "separateopinion                    boolean\n",
      "sharepointid                       Int64\n",
      "typedescription                    Int64\n",
      "article=3                          Int64\n",
      "article=6                          Int64\n",
      "article=P1                         Int64\n",
      "article=5                          Int64\n",
      "article=8                          Int64\n",
      "article=13                         Int64\n",
      "article=10                         Int64\n",
      "article=2                          Int64\n",
      "article=34                         Int64\n",
      "article=41                         Int64\n",
      "article=38                         Int64\n",
      "article=35                         Int64\n",
      "article=4                          Int64\n",
      "article=29                         Int64\n",
      "article=14                         Int64\n",
      "article=P12                        Int64\n",
      "article=9                          Int64\n",
      "article=1                          Int64\n",
      "article=11                         Int64\n",
      "article=46                         Int64\n",
      "article=P4                         Int64\n",
      "article=17                         Int64\n",
      "article=18                         Int64\n",
      "article=7                          Int64\n",
      "article=                           Int64\n",
      "article=37                         Int64\n",
      "article=P7                         Int64\n",
      "article=57                         Int64\n",
      "article=26                         Int64\n",
      "article=27                         Int64\n",
      "article=36                         Int64\n",
      "article=30                         Int64\n",
      "article=12                         Int64\n",
      "article=56                         Int64\n",
      "article=39                         Int64\n",
      "article=15                         Int64\n",
      "article=25                         Int64\n",
      "article=P6                         Int64\n",
      "article=19                         Int64\n",
      "article=32                         Int64\n",
      "article=33                         Int64\n",
      "article=53                         Int64\n",
      "article=28                         Int64\n",
      "article=43                         Int64\n",
      "article=52                         Int64\n",
      "article=P13                        Int64\n",
      "article=16                         Int64\n",
      "documentcollectionid=CASELAW       Int64\n",
      "documentcollectionid=JUDGMENTS     Int64\n",
      "documentcollectionid=CHAMBER       Int64\n",
      "documentcollectionid=ENG           Int64\n",
      "documentcollectionid=COMMITTEE     Int64\n",
      "documentcollectionid=GRANDCHAMBER  Int64\n",
      "applicability=                     Int64\n",
      "applicability=36                   Int64\n",
      "applicability=43                   Int64\n",
      "applicability=41                   Int64\n",
      "applicability=55                   Int64\n",
      "applicability=3                    Int64\n",
      "applicability=22                   Int64\n",
      "applicability=60                   Int64\n",
      "applicability=58                   Int64\n",
      "applicability=25                   Int64\n",
      "applicability=47                   Int64\n",
      "applicability=12                   Int64\n",
      "applicability=38                   Int64\n",
      "applicability=20                   Int64\n",
      "applicability=18                   Int64\n",
      "applicability=24                   Int64\n",
      "applicability=62                   Int64\n",
      "applicability=21                   Int64\n",
      "applicability=23                   Int64\n",
      "applicability=8                    Int64\n",
      "applicability=26                   Int64\n",
      "applicability=53                   Int64\n",
      "applicability=15                   Int64\n",
      "applicability=48                   Int64\n",
      "applicability=14                   Int64\n",
      "applicability=51                   Int64\n",
      "applicability=13                   Int64\n",
      "applicability=5                    Int64\n",
      "applicability=7                    Int64\n",
      "applicability=50                   Int64\n",
      "applicability=52                   Int64\n",
      "applicability=28                   Int64\n",
      "applicability=29                   Int64\n",
      "applicability=31                   Int64\n",
      "applicability=6                    Int64\n",
      "applicability=81                   Int64\n",
      "applicability=66                   Int64\n",
      "applicability=49                   Int64\n",
      "applicability=33                   Int64\n",
      "applicability=63                   Int64\n",
      "applicability=68                   Int64\n",
      "applicability=46                   Int64\n",
      "applicability=19                   Int64\n",
      "applicability=40                   Int64\n",
      "applicability=17                   Int64\n",
      "applicability=32                   Int64\n",
      "applicability=72                   Int64\n",
      "applicability=34                   Int64\n",
      "applicability=35                   Int64\n",
      "applicability=54                   Int64\n",
      "applicability=27                   Int64\n",
      "applicability=16                   Int64\n",
      "applicability=64                   Int64\n",
      "applicability=57                   Int64\n",
      "applicability=56                   Int64\n",
      "applicability=2                    Int64\n",
      "applicability=4                    Int64\n",
      "applicability=67                   Int64\n",
      "applicability=77                   Int64\n",
      "applicability=71                   Int64\n",
      "applicability=59                   Int64\n",
      "paragraphs=3                       Int64\n",
      "paragraphs=6                       Int64\n",
      "paragraphs=6-1                     Int64\n",
      "paragraphs=6-3-c                   Int64\n",
      "paragraphs=P1-3                    Int64\n",
      "paragraphs=5                       Int64\n",
      "paragraphs=5-1                     Int64\n",
      "paragraphs=P1-1                    Int64\n",
      "paragraphs=8                       Int64\n",
      "paragraphs=8-1                     Int64\n",
      "paragraphs=13                      Int64\n",
      "paragraphs=10                      Int64\n",
      "paragraphs=10-2                    Int64\n",
      "paragraphs=10-1                    Int64\n",
      "paragraphs=35-1                    Int64\n",
      "paragraphs=2                       Int64\n",
      "paragraphs=2-1                     Int64\n",
      "paragraphs=34                      Int64\n",
      "paragraphs=41                      Int64\n",
      "paragraphs=38                      Int64\n",
      "paragraphs=35                      Int64\n",
      "paragraphs=8-2                     Int64\n",
      "paragraphs=35-3-a                  Int64\n",
      "paragraphs=29-3                    Int64\n",
      "paragraphs=4                       Int64\n",
      "paragraphs=29                      Int64\n",
      "paragraphs=P1-1-1                  Int64\n",
      "paragraphs=5-1-e                   Int64\n",
      "paragraphs=6-2                     Int64\n",
      "paragraphs=5-1-c                   Int64\n",
      "paragraphs=14                      Int64\n",
      "paragraphs=35-3                    Int64\n",
      "paragraphs=6-3-d                   Int64\n",
      "paragraphs=5-1-b                   Int64\n",
      "paragraphs=5-5                     Int64\n",
      "paragraphs=P12-1                   Int64\n",
      "paragraphs=11-1                    Int64\n",
      "paragraphs=11-2                    Int64\n",
      "paragraphs=9                       Int64\n",
      "paragraphs=9-1                     Int64\n",
      "paragraphs=1                       Int64\n",
      "paragraphs=11                      Int64\n",
      "paragraphs=6-3                     Int64\n",
      "paragraphs=5-3                     Int64\n",
      "paragraphs=5-4                     Int64\n",
      "paragraphs=46                      Int64\n",
      "paragraphs=46-2                    Int64\n",
      "paragraphs=5-1-a                   Int64\n",
      "paragraphs=P4-2                    Int64\n",
      "paragraphs=P4-2-2                  Int64\n",
      "paragraphs=17                      Int64\n",
      "paragraphs=18                      Int64\n",
      "paragraphs=7                       Int64\n",
      "paragraphs=7-1                     Int64\n",
      "paragraphs=                        Int64\n",
      "paragraphs=4-3-d                   Int64\n",
      "paragraphs=4-2                     Int64\n",
      "paragraphs=6-3-e                   Int64\n",
      "paragraphs=9-2                     Int64\n",
      "paragraphs=P1-1-2                  Int64\n",
      "paragraphs=P4-2-1                  Int64\n",
      "paragraphs=37-1-c                  Int64\n",
      "paragraphs=37                      Int64\n",
      "paragraphs=P7-4                    Int64\n",
      "paragraphs=4-1                     Int64\n",
      "paragraphs=57                      Int64\n",
      "paragraphs=6-3-b                   Int64\n",
      "paragraphs=35-3-b                  Int64\n",
      "paragraphs=5-1-f                   Int64\n",
      "paragraphs=35-4                    Int64\n",
      "paragraphs=P4-2-3                  Int64\n",
      "paragraphs=2-2                     Int64\n",
      "paragraphs=26                      Int64\n",
      "paragraphs=27-2                    Int64\n",
      "paragraphs=27                      Int64\n",
      "paragraphs=36                      Int64\n",
      "paragraphs=36-1                    Int64\n",
      "paragraphs=37-1                    Int64\n",
      "paragraphs=P7-2                    Int64\n",
      "paragraphs=35-2                    Int64\n",
      "paragraphs=5-1-d                   Int64\n",
      "paragraphs=6-3-a                   Int64\n",
      "paragraphs=30                      Int64\n",
      "paragraphs=46-1                    Int64\n",
      "paragraphs=12                      Int64\n",
      "paragraphs=P7-1                    Int64\n",
      "paragraphs=P7-1-1                  Int64\n",
      "paragraphs=36-2                    Int64\n",
      "paragraphs=5-2                     Int64\n",
      "paragraphs=P1-2                    Int64\n",
      "paragraphs=P1-4                    Int64\n",
      "paragraphs=56-3                    Int64\n",
      "paragraphs=56                      Int64\n",
      "paragraphs=56-1                    Int64\n",
      "paragraphs=P7-1-2                  Int64\n",
      "paragraphs=38-1-a                  Int64\n",
      "paragraphs=37-1-b                  Int64\n",
      "paragraphs=39                      Int64\n",
      "paragraphs=15-1                    Int64\n",
      "paragraphs=15                      Int64\n",
      "paragraphs=7-2                     Int64\n",
      "paragraphs=P4-4                    Int64\n",
      "paragraphs=15-3                    Int64\n",
      "paragraphs=25-1                    Int64\n",
      "paragraphs=25                      Int64\n",
      "paragraphs=37-1-a                  Int64\n",
      "paragraphs=P6-1                    Int64\n",
      "paragraphs=P7-5                    Int64\n",
      "paragraphs=19                      Int64\n",
      "paragraphs=32                      Int64\n",
      "paragraphs=P7-3                    Int64\n",
      "paragraphs=33                      Int64\n",
      "paragraphs=28-1-a                  Int64\n",
      "paragraphs=53                      Int64\n",
      "paragraphs=28                      Int64\n",
      "paragraphs=35-2-b                  Int64\n",
      "paragraphs=43                      Int64\n",
      "paragraphs=4-3-b                   Int64\n",
      "paragraphs=4-3-a                   Int64\n",
      "paragraphs=4-3                     Int64\n",
      "paragraphs=28-3                    Int64\n",
      "paragraphs=52                      Int64\n",
      "paragraphs=P13-1                   Int64\n",
      "paragraphs=P7-4-1                  Int64\n",
      "paragraphs=16                      Int64\n",
      "paragraphs=P4-3                    Int64\n",
      "paragraphs=27-1-b                  Int64\n",
      "paragraphs=29-1                    Int64\n",
      "paragraphs=32-2                    Int64\n",
      "paragraphs=28-1                    Int64\n",
      "paragraphs=P6-2                    Int64\n",
      "paragraphs=46-4                    Int64\n",
      "ccl_article=1                      Int64\n",
      "ccl_article=10                     Int64\n",
      "ccl_article=11                     Int64\n",
      "ccl_article=12                     Int64\n",
      "ccl_article=13                     Int64\n",
      "ccl_article=14                     Int64\n",
      "ccl_article=17                     Int64\n",
      "ccl_article=18                     Int64\n",
      "ccl_article=2                      Int64\n",
      "ccl_article=25                     Int64\n",
      "ccl_article=3                      Int64\n",
      "ccl_article=34                     Int64\n",
      "ccl_article=38                     Int64\n",
      "ccl_article=4                      Int64\n",
      "ccl_article=46                     Int64\n",
      "ccl_article=5                      Int64\n",
      "ccl_article=6                      Int64\n",
      "ccl_article=7                      Int64\n",
      "ccl_article=8                      Int64\n",
      "ccl_article=9                      Int64\n",
      "ccl_article=p1                     Int64\n",
      "ccl_article=p12                    Int64\n",
      "ccl_article=p4                     Int64\n",
      "ccl_article=p6                     Int64\n",
      "ccl_article=p7                     Int64 \n",
      "\n"
     ]
    }
   ],
   "source": [
    "# maintain object dtype as 'object' only\n",
    "df = df.convert_dtypes(convert_string=False)\n",
    "\n",
    "# view data types after conversion   \n",
    "print(tabulate(pd.DataFrame(df.dtypes), headers=[\"Feature\", \"Data Type\"]), \"\\n\")"
   ]
  },
  {
   "cell_type": "markdown",
   "metadata": {},
   "source": [
    "<br>\n",
    "\n",
    "# Data Quality Plan"
   ]
  },
  {
   "cell_type": "markdown",
   "metadata": {},
   "source": [
    "### Observations from data\n",
    "* **Few features are provided in 1 hot encoded format** : issue.{0-26}, article={27 nos}, applicability={61 nos}, ccl_article={25 nos}, paragraphs={132 nos}\n",
    "\n",
    "### Action items\n",
    "* **Drop confirm duplicate columns noticed on merged data**\n",
    "\n",
    "### Analysis\n",
    "\n",
    "* **NO_SIG** : Not significant towards prediction of target variable 'importance'\n",
    "* **SIG** : Probable candidate feature to contribute in prediction of target variable 'importance'\n",
    "* **HCR** : Very high Correlation with another feature\n",
    "* **Keep** : KEEP feature\n",
    "* **Drop** : DROP feature\n",
    "\n",
    "| Features                  | Data<br>Classification| Subtype    | Description Or<br>domain significance  | Data quality issue |Solution Strategy |\n",
    "|:------------------------- |:------------------ |:---------- |:-----------|:-------------- |:-------------- | \n",
    "| appno                                 | catagorical        | nominal    | application number<br><br>e.g. 53865/11|**NO_SIG**<br>13467 unique values<br>No nulls|**Drop**<br>|\n",
    "| application                           | catagorical        | nominal    | software used<br><br>for lodging complaint<br>e.g. MS word|**NO_SIG**<br>1 unique value<br>no null|**Drop**<br>|\n",
    "| country.alpha2                        | catagorical        | nominal    | country code<br><br>e.g. ie|**SIG**<br>46 unique countries<br>no nulls|**Keep**<br><br>one hot encode into constituent features|\n",
    "| country.name                          | catagorical        | nominal    | country name<br><br>e.g. Ireland|**HCR**<br>Corr->1 with<br>'country.alpha2'|**Drop**<br>|\n",
    "| decisiondate                          | numeric            | continuous<br>datetime   | date of decision|**NO_SIG**<br>92% null values|**Drop**<br>|\n",
    "| docname                               | catagorical        | nominal    | name of case<br><br>e.g.CASE OF <br>EMINBEYLI v. RUSSIA|**NO_SIG**<br>name of complainant <br>and country available <br>in features 'country.name' <br>and 'parties.0'|**Drop**<br>|\n",
    "| doctypebranch                         | catagorical        | Ordinal    | type of case<br><br>e.g. CHEMBER, COMMITTEE,<br>GRANDCHEMBER|**SIG**<br>represented in 1-hot<br>encoded form<br>in feature<br>'documentcollectionid=<br>{CHEMBER, COMMITTEE,<br>GRANDCHEMBER}'|**Drop**<br>|\n",
    "| ecli                                  | catagorical        | nominal    | database case ID<br><br>e.g. ECLI:CE:ECHR:2015:<br>.1203JUD005386511|**NO_SIG**<br>primary key<br>no contribution<br>in prediction|**Drop**<br>|\n",
    "| introductiondate                      | numeric            | continuous<br>datetime   | date of introduction|**NO_SIG**<br>92% null values|**Drop**<br>|\n",
    "| itemid                                | catagorical        | nominal    | database item ID<br><br>e.g. 001-108659|**NO_SIG**<br>primary key<br>no contribution<br>in prediction|**Drop**<br>|\n",
    "| judgementdate                         | numeric            | continuous<br>datetime   | date of Judgement|**SIG**<br>No null values<br>2088 unique<br>entries in<br>13638 samples|**Keep**<br><br>seperate into quarter, month,<br>year, weekday and<br>convert to categorical|\n",
    "| kpdate                                | numeric            | continuous<br>datetime   | date of closure|**SIG**<br>No null values<br>2088 unique<br>entries in<br>13638 samples|**Drop**<br>Duplicate of judgementdate|\n",
    "| languageisocode                       | catagorical        | nominal    | Language<br><br>e.g. ENG|**NO_SIG**<br>1 unique value<br>no null|**Drop**<br>|\n",
    "| originatingbody                       | catagorical        | nominal    | Party originating<br>case<br><br>e.g. [29,1..]|**SIG**<br>13 unique value<br>no null|**Keep**<br><br>one hot encode into constituent features |\n",
    "| originatingbody_name                  | catagorical        | nominal    | Name of party<br>originating<br>case<br><br>e.g. Fith Section Committee,<br>Second Section|**HCR**<br>Corr->1 with<br>'originatingbody'|**Drop**<br>|\n",
    "| originatingbody_type                  | catagorical        | nominal    | Name of party<br>originating<br>case|**NO_SIG**<br>1 unique value<br>no null|**Drop**<br>|\n",
    "| parties.0                             | catagorical        | nominal    | Name of party<br>filing<br>case|**NO_SIG**<br>12535 unique values<br>no null|**Drop**<br>|\n",
    "| parties.1                             | catagorical        | nominal    | Name of country/s<br>against whome<br>case filed<br><br>e.g. \"IRELAND\", \"RUSSIA\"|**NO_SIG**<br>107 unique values<br>no null<br>majority of values<br>correlate with<br>'country.alpha2'|**Drop**<br>|\n",
    "| parties.2                             | catagorical        | nominal    | party of body <br>from whom the<br> case originated<br><br>e.g. \"IRELAND\", \"RUSSIA\"|**NO_SIG**<br>~99% null values|**Drop**<br>|\n",
    "| rank                                  | numerical        | continuous   | rank (0-10000)<br>of officials<br>rank of an official<br>increases with value|**SIG**<br>6484 unique values<br>no null|**Keep**<br><br>high cardinality feature<br>binning is necessary|\n",
    "| respondent.0                          | catagorical        | nominal    | respondant to grievence<br>e.g. RUS|**HCR**<br>Corr->1 with<br>'country.alpha2'|**Drop**<br>|\n",
    "| respondent.1                          | catagorical        | nominal    |respondant to grievence<br>e.g. RUS|**NO_SIG**<br>99% null values|**Drop**<br>|\n",
    "| respondent.2                          | catagorical        | nominal    | respondant to grievence<br>e.g. RUS|**NO_SIG**<br>99% null values|**Drop**<br>|\n",
    "| respondent.3                          | catagorical        | nominal    | respondant to grievence<br>e.g. RUS|**NO_SIG**<br>99% null values|**Drop**<br>|\n",
    "| respondent.4                          | catagorical        | nominal    | respondant to grievence<br>e.g. RUS|**NO_SIG**<br>99% null values|**Drop**<br>|\n",
    "| respondentOrderEng                    | catagorical        | nominal    | respondent information<br>numreic label<br>e.g. 49|**HCR**<br>Corr->1 with<br>'country.alpha2'|**Drop**<br>|\n",
    "| separateopinion                       | catagorical        | nominal    |  on a case<br> e.g. {TRUE, FALSE}|**SIG**<br>No null values<br>Boolean feature|**Keep**<br><br>one hot encode into constituent features |\n",
    "| sharepointid                          | catagorical        | nominal    | sharepoint ID<br><br>e.g. 359124|**NO_SIG**<br>primary key<br>no contribution<br>in prediction|**Drop**<br>|\n",
    "| typedescription                       | catagorical        | nominal    | type_description {12- 19}|**SIG**<br>No null values<br>5 distinct values|**Keep**<br><br>one hot encode into constituent features |\n",
    "| issue.{0-26}                          | catagorical        | nominal    | description with respect<br>to an issue<br><br>e.g. \"Instruction regarding<br>the detention\",\"Law on pre-trial<br>detention (1997-..|**NO_SIG**<br>text description<br>~99% null data in<br>most of columns|**Drop**<br>|\n",
    "| article={27 numbers}                  | catagorical        | nominal    | type of article|**SIG**<br>1 hot encoded|**Keep**<br>|\n",
    "| documentcollectionid=<br>CASELAW      | catagorical        | nominal    | document category=CASELAW   |**NO_SIG**<br>1 unique value<br>no null|**Drop**<br>|\n",
    "| documentcollectionid=<br>JUDGMENTS    | catagorical        | nominal    | document category=JUDGEMENTS|**NO_SIG**<br>1 unique value<br>no null|**Drop**<br>|\n",
    "| documentcollectionid=<br>ENG          | catagorical        | nominal    | document category=ENG|**NO_SIG**<br>1 unique value<br>no null|**Drop**<br>|\n",
    "| documentcollectionid=<br>CHAMBER      | catagorical        | nominal    | document category=CHEMBERS|**SIG**<br>1 hot encoded<br>from feature<br>'doctypebranch'|**Keep**<br>|\n",
    "| documentcollectionid=<br>COMMITTEE    | catagorical        | nominal    | document category=COMMITTEE|**SIG**<br>1 hot encoded<br>from feature<br>'doctypebranch'|**Keep**<br>|\n",
    "| documentcollectionid=<br>GRANDCHAMBER | catagorical        | nominal    | document category=GRANDCHEMBER|**SIG**<br>1 hot encoded<br>from feature<br>'doctypebranch'|**Keep**<br>|\n",
    "| applicability=<br>{61 numbers}        | catagorical        | nominal    |  applicability of case|**SIG**<br>1 hot encoded|**Keep**<br>|\n",
    "| ccl_article=<br>{25 Type}             | catagorical        | nominal    | reliability of<br>CCL article type<br>e.g. {-1,0,1}|**SIG**<br>1 hot encoded|**Keep**<br><br>one hot encode into constituent features |\n",
    "| paragraphs=<br>{132 numbers}          | catagorical        | nominal    | category   |**SIG**<br>1 hot encoded|**Keep**<br>|\n",
    "| importance                            | catagorical        | ordinal    | Target variable<br>0-5|**SIG**<br>target variable|**Keep**<br>|\n"
   ]
  },
  {
   "cell_type": "markdown",
   "metadata": {},
   "source": [
    "## Feature sets for preprocessing"
   ]
  },
  {
   "cell_type": "markdown",
   "metadata": {},
   "source": [
    "### Insingnificant Features\n",
    "Features not significant for infering target variable are dropped "
   ]
  },
  {
   "cell_type": "code",
   "execution_count": 22,
   "metadata": {},
   "outputs": [
    {
     "name": "stdout",
     "output_type": "stream",
     "text": [
      "drop features ['appno', 'application', 'country.name', 'decisiondate', 'docname', 'doctypebranch', 'ecli', 'introductiondate', 'itemid', 'languageisocode', 'originatingbody_name', 'originatingbody_type', 'sharepointid', 'documentcollectionid=CASELAW', 'parties.0', 'parties.1', 'parties.2', 'respondent.0', 'respondent.1', 'respondent.2', 'respondent.3', 'respondent.4', 'respondentOrderEng', 'issue.0', 'issue.1', 'issue.10', 'issue.11', 'issue.12', 'issue.13', 'issue.14', 'issue.15', 'issue.16', 'issue.17', 'issue.18', 'issue.19', 'issue.2', 'issue.20', 'issue.21', 'issue.22', 'issue.23', 'issue.24', 'issue.25', 'issue.26', 'issue.3', 'issue.4', 'issue.5', 'issue.6', 'issue.7', 'issue.8', 'issue.9']\n"
     ]
    }
   ],
   "source": [
    "drop_features = [\"appno\", \"application\", \"country.name\",\n",
    "                    \"decisiondate\", \"docname\", \"doctypebranch\",\n",
    "                    \"ecli\", \"introductiondate\", \"itemid\",\n",
    "                    \"kpdate\", \"languageisocode\", \"originatingbody_name\",\n",
    "                    \"originatingbody_type\", \"sharepointid\",\n",
    "                    \"documentcollectionid=CASELAW\", \"documentcollectionid=JUDGMENTS\",\n",
    "                    \"documentcollectionid=ENG\", \n",
    "                    *df.filter(like='parties', axis=1).columns,\n",
    "                    *df.filter(like='respondent', axis=1).columns,\n",
    "                    *df.filter(like='issue', axis=1).columns                    \n",
    "                   ]\n",
    "\n",
    "# few columns listed to be dropped are also in duplicates. They are removed from dropped_features\n",
    "drop_features = [item for item in drop_features if item not in duplicate_features]\n",
    "\n",
    "print(\"drop features\",drop_features)"
   ]
  },
  {
   "cell_type": "markdown",
   "metadata": {},
   "source": [
    "### Features selected for onehot transformation "
   ]
  },
  {
   "cell_type": "code",
   "execution_count": 23,
   "metadata": {},
   "outputs": [],
   "source": [
    "oh_features = [\"country.alpha2\",\"originatingbody\", \"separateopinion\", \"typedescription\",\n",
    "                *df.filter(like='ccl_article', axis=1).columns\n",
    "               ]"
   ]
  },
  {
   "cell_type": "markdown",
   "metadata": {},
   "source": [
    "### Features selected for binning "
   ]
  },
  {
   "cell_type": "code",
   "execution_count": 24,
   "metadata": {},
   "outputs": [],
   "source": [
    "bin_features = [\"rank\"]"
   ]
  },
  {
   "cell_type": "markdown",
   "metadata": {},
   "source": [
    "### Features selected for ordinal binning\n",
    "Features comprising \"year\" are significant ordnial variables"
   ]
  },
  {
   "cell_type": "code",
   "execution_count": 25,
   "metadata": {},
   "outputs": [],
   "source": [
    "ordinal_features = []"
   ]
  },
  {
   "cell_type": "markdown",
   "metadata": {},
   "source": [
    "### datetime features"
   ]
  },
  {
   "cell_type": "code",
   "execution_count": 26,
   "metadata": {},
   "outputs": [],
   "source": [
    "datetime_features = ['judgementdate']"
   ]
  },
  {
   "cell_type": "code",
   "execution_count": 27,
   "metadata": {},
   "outputs": [],
   "source": [
    "for dt_col in datetime_features:\n",
    "    # add new categorical features into list for onehot encoding columns\n",
    "    oh_features.extend([dt_col+'_quarter', dt_col+'_weekday', dt_col+'_month'])\n",
    "    ordinal_features.append(dt_col+'_year')"
   ]
  },
  {
   "cell_type": "markdown",
   "metadata": {},
   "source": [
    "### Target variable"
   ]
  },
  {
   "cell_type": "code",
   "execution_count": 28,
   "metadata": {},
   "outputs": [],
   "source": [
    "target_feature = 'importance'"
   ]
  },
  {
   "cell_type": "markdown",
   "metadata": {},
   "source": [
    "# Preprocessing\n",
    "Apply transformation to make dataframe necessary for training a model "
   ]
  },
  {
   "cell_type": "markdown",
   "metadata": {},
   "source": [
    "### Datetime feature resolution into component features"
   ]
  },
  {
   "cell_type": "code",
   "execution_count": 56,
   "metadata": {},
   "outputs": [],
   "source": [
    "# Resolve each datetime entry into quarter of year, day of week, year and month\n",
    "def date_transform(df_proc, datetime_columns):\n",
    "    for dt_col in datetime_columns:\n",
    "        df_proc.drop(list(df_proc.filter(like=dt_col+\"_\", axis=1).columns), axis=1, inplace=True)\n",
    "        df_proc[dt_col] = pd.to_datetime(df_proc[dt_col], format=\"%d/%m/%Y\")    \n",
    "        df_proc[dt_col+'_quarter'] = df_proc[dt_col].dt.quarter\n",
    "        df_proc[dt_col+'_quarter'] = df_proc[dt_col+'_quarter'].astype('object') \n",
    "        df_proc[dt_col+'_weekday'] = df_proc[dt_col].dt.weekday \n",
    "        df_proc[dt_col+'_weekday'] = df_proc[dt_col+'_weekday'].astype('object') \n",
    "        df_proc[dt_col+'_month'] = df_proc[dt_col].dt.month\n",
    "        df_proc[dt_col+'_month'] = df_proc[dt_col+'_month'].astype('object')     \n",
    "        df_proc[dt_col+'_year'] = df_proc[dt_col].dt.year\n",
    "        # remove parent column\n",
    "        df_proc.drop(dt_col,axis=1, inplace=True)\n",
    "    return df_proc"
   ]
  },
  {
   "cell_type": "markdown",
   "metadata": {},
   "source": [
    "### Drop features"
   ]
  },
  {
   "cell_type": "code",
   "execution_count": 57,
   "metadata": {},
   "outputs": [],
   "source": [
    "def feature_drop(df, dropped_features):\n",
    "    return df.drop(dropped_features, axis=1)"
   ]
  },
  {
   "cell_type": "markdown",
   "metadata": {},
   "source": [
    "### Preprocess data"
   ]
  },
  {
   "cell_type": "code",
   "execution_count": 58,
   "metadata": {
    "scrolled": true
   },
   "outputs": [],
   "source": [
    "# target is present only in case of train data. For test data, target feature is not available\n",
    "\n",
    "def preprocess_data(df, datetime_features, dropped_features, c_xform= False, target=False):\n",
    "    df = date_transform(df.copy(deep=True),datetime_features) \n",
    "    df = feature_drop(df, dropped_features)\n",
    "    if target:\n",
    "        X = df.drop([target], axis=1)\n",
    "        ct, X = col_xform(X)\n",
    "        X = pd.DataFrame(X)\n",
    "        y = pd.DataFrame(df[target])\n",
    "        return X, y,ct\n",
    "    if c_xform:\n",
    "        df = pd.DataFrame(c_xform.transform(df))\n",
    "        return df"
   ]
  },
  {
   "cell_type": "markdown",
   "metadata": {},
   "source": [
    "### Column transformer"
   ]
  },
  {
   "cell_type": "code",
   "execution_count": 59,
   "metadata": {
    "scrolled": true
   },
   "outputs": [],
   "source": [
    "def col_xform(df): \n",
    "    ct = ColumnTransformer(\n",
    "        [\n",
    "            (\"ohe_categorical\",\n",
    "             OneHotEncoder(handle_unknown=\"ignore\"),\n",
    "             oh_features\n",
    "            ),\n",
    "\n",
    "            (\"binned_numeric\", \n",
    "             KBinsDiscretizer(n_bins=100, encode=\"onehot\", strategy='uniform'),\n",
    "             bin_features\n",
    "            ),\n",
    "\n",
    "            (\"binned_categorical\", \n",
    "             KBinsDiscretizer(n_bins=20, encode=\"onehot\", strategy='uniform'),\n",
    "             ordinal_features\n",
    "            ),             \n",
    "        ],\n",
    "        remainder=\"passthrough\",\n",
    "    )\n",
    "    ct = ct.fit(df)\n",
    "    return ct, ct.transform(df)"
   ]
  },
  {
   "cell_type": "markdown",
   "metadata": {},
   "source": [
    "# Train classifier"
   ]
  },
  {
   "cell_type": "code",
   "execution_count": 134,
   "metadata": {},
   "outputs": [
    {
     "name": "stdout",
     "output_type": "stream",
     "text": [
      "Num GPUs Available:  1\n"
     ]
    }
   ],
   "source": [
    "print(\"Num GPUs Available: \", len(tf.config.experimental.list_physical_devices('GPU')))"
   ]
  },
  {
   "cell_type": "markdown",
   "metadata": {},
   "source": [
    "### Prepare training data"
   ]
  },
  {
   "cell_type": "code",
   "execution_count": 135,
   "metadata": {},
   "outputs": [],
   "source": [
    "# copy of test dataset\n",
    "df_proc = df_train.copy(deep=True)"
   ]
  },
  {
   "cell_type": "code",
   "execution_count": 136,
   "metadata": {},
   "outputs": [],
   "source": [
    "dropped_features = drop_features + duplicate_features"
   ]
  },
  {
   "cell_type": "code",
   "execution_count": 137,
   "metadata": {
    "scrolled": false
   },
   "outputs": [
    {
     "name": "stdout",
     "output_type": "stream",
     "text": [
      "Input dataframe shape (8878, 328) <class 'pandas.core.frame.DataFrame'>\n",
      "Input features shape (8878, 473) <class 'pandas.core.frame.DataFrame'> Target features shape (8878, 1) <class 'pandas.core.frame.DataFrame'>\n"
     ]
    }
   ],
   "source": [
    "X,y,ct = preprocess_data(df_proc, datetime_features, dropped_features, target=target_feature)\n",
    "X = X.astype('int32')\n",
    "y = y.astype('int32')\n",
    "print(\"Input dataframe shape\",df_proc.shape, type(df_proc))\n",
    "print(\"Input features shape\", X.shape,type(X), \"Target features shape\", y.shape, type(y))"
   ]
  },
  {
   "cell_type": "markdown",
   "metadata": {},
   "source": [
    "### Hyperparameters"
   ]
  },
  {
   "cell_type": "code",
   "execution_count": 138,
   "metadata": {},
   "outputs": [],
   "source": [
    "##########################\n",
    "### SETTINGS\n",
    "##########################\n",
    "\n",
    "# Hyperparameters\n",
    "random_seed = 1 # Not yet used\n",
    "learning_rate = 0.05\n",
    "batch_size = 32\n",
    "num_epochs = 30\n",
    "\n",
    "# Architecture\n",
    "NUM_CLASSES = 6\n",
    "input_dim = [X.shape[1]]"
   ]
  },
  {
   "cell_type": "markdown",
   "metadata": {},
   "source": [
    "### Train - Validation - Test split"
   ]
  },
  {
   "cell_type": "code",
   "execution_count": 139,
   "metadata": {
    "scrolled": true
   },
   "outputs": [
    {
     "name": "stdout",
     "output_type": "stream",
     "text": [
      "Shape of dataset inputs: (8878, 473)\n",
      "Shape of dataset labels: (8878, 1)\n",
      "Shape of training inputs: (4217, 473)\n",
      "Shape of training labels: (4217, 1)\n",
      "Shape of validation inputs: (4217, 473)\n",
      "Shape of validation labels: (4217, 1)\n",
      "Shape of test inputs: (444, 473)\n",
      "Shape of test labels: (444, 1)\n"
     ]
    }
   ],
   "source": [
    "X_train, X_test, y_train, y_test = train_test_split(X, y, test_size=0.05, random_state=1)\n",
    "\n",
    "X_train, X_val, y_train, y_val = train_test_split(X_train, y_train, test_size=0.5, random_state=1) # 0.25 x 0.8 = 0.2\n",
    "\n",
    "print(\"Shape of dataset inputs:\", X.shape)\n",
    "print(\"Shape of dataset labels:\", y.shape)\n",
    "\n",
    "print(\"Shape of training inputs:\", X_train.shape)\n",
    "print(\"Shape of training labels:\", y_train.shape)\n",
    "\n",
    "print(\"Shape of validation inputs:\", X_val.shape)\n",
    "print(\"Shape of validation labels:\", y_val.shape)   \n",
    "\n",
    "print(\"Shape of test inputs:\", X_test.shape)\n",
    "print(\"Shape of test labels:\", y_test.shape)\n",
    "\n",
    "train_dataset = tf.data.Dataset.from_tensor_slices((X_train.values, y_train.values))\n",
    "train_dataset = train_dataset.shuffle(1000).batch(batch_size)\n",
    "\n",
    "test_dataset = tf.data.Dataset.from_tensor_slices((X_test.values, y_test.values))\n",
    "test_dataset = test_dataset.shuffle(1000).batch(batch_size)\n",
    "\n",
    "val_dataset = tf.data.Dataset.from_tensor_slices((X_val.values,y_val.values))\n",
    "val_dataset = val_dataset.shuffle(1000).batch(batch_size)\n",
    "\n"
   ]
  },
  {
   "cell_type": "markdown",
   "metadata": {},
   "source": [
    "## Train model"
   ]
  },
  {
   "cell_type": "markdown",
   "metadata": {},
   "source": [
    "### Classifier"
   ]
  },
  {
   "cell_type": "markdown",
   "metadata": {},
   "source": [
    "reference : https://colab.research.google.com/drive/1AQl4XeqRRhd7l30bmgLVObKt5RFPHttn#scrollTo=1YAftcr9wxTu"
   ]
  },
  {
   "cell_type": "code",
   "execution_count": 140,
   "metadata": {},
   "outputs": [],
   "source": [
    "# # Install source package from GitHub\n",
    "# !pip install --force-reinstall --no-deps git+https://github.com/ck37/coral-ordinal/"
   ]
  },
  {
   "cell_type": "markdown",
   "metadata": {},
   "source": [
    "### Model definition"
   ]
  },
  {
   "cell_type": "code",
   "execution_count": 141,
   "metadata": {
    "scrolled": true
   },
   "outputs": [
    {
     "name": "stdout",
     "output_type": "stream",
     "text": [
      "Model: \"model_6\"\n",
      "_________________________________________________________________\n",
      "Layer (type)                 Output Shape              Param #   \n",
      "=================================================================\n",
      "input_7 (InputLayer)         [(None, 473)]             0         \n",
      "_________________________________________________________________\n",
      "flatten_6 (Flatten)          (None, 473)               0         \n",
      "_________________________________________________________________\n",
      "dense_12 (Dense)             (None, 128)               60672     \n",
      "_________________________________________________________________\n",
      "dropout_7 (Dropout)          (None, 128)               0         \n",
      "_________________________________________________________________\n",
      "dense_13 (Dense)             (None, 32)                4128      \n",
      "_________________________________________________________________\n",
      "dropout_8 (Dropout)          (None, 32)                0         \n",
      "_________________________________________________________________\n",
      "dense_14 (Dense)             (None, 8)                 264       \n",
      "_________________________________________________________________\n",
      "coral_ordinal_6 (CoralOrdina (None, 5)                 13        \n",
      "=================================================================\n",
      "Total params: 65,077\n",
      "Trainable params: 65,077\n",
      "Non-trainable params: 0\n",
      "_________________________________________________________________\n"
     ]
    }
   ],
   "source": [
    "def create_model2(num_classes, dim=[1]):\n",
    "    inputs = tf.keras.Input(shape = (*dim, ))\n",
    "\n",
    "    x = tf.keras.layers.Flatten()(inputs)\n",
    "    x = tf.keras.layers.Dense(128, activation = \"sigmoid\")(x)\n",
    "    x = tf.keras.layers.Dropout(0.1)(x)\n",
    "    x = tf.keras.layers.Dense(32, activation = \"relu\")(x)\n",
    "    x = tf.keras.layers.Dropout(0.05)(x)    \n",
    "    x = tf.keras.layers.Dense(8, activation = \"relu\")(x)\n",
    "    # Ordinal output layer with a certain number of classes / ranks / labels.\n",
    "    # No activation function specified so this will output cumulative logits.\n",
    "    outputs = coral.CoralOrdinal(num_classes)(x)\n",
    "\n",
    "    model = tf.keras.Model(inputs = inputs, outputs = outputs)\n",
    "\n",
    "    return model\n",
    "\n",
    "model = create_model2(NUM_CLASSES,dim=input_dim)\n",
    "\n",
    "# Note that the model generates 1 fewer outputs than the number of classes. \n",
    "model.summary()"
   ]
  },
  {
   "cell_type": "markdown",
   "metadata": {},
   "source": [
    "### Model compile"
   ]
  },
  {
   "cell_type": "code",
   "execution_count": 142,
   "metadata": {},
   "outputs": [],
   "source": [
    "model.compile(optimizer = tf.keras.optimizers.Nadam(lr = learning_rate),\n",
    "              loss = coral.OrdinalCrossEntropy(num_classes = NUM_CLASSES),\n",
    "              metrics = [coral.MeanAbsoluteErrorLabels()])"
   ]
  },
  {
   "cell_type": "markdown",
   "metadata": {},
   "source": [
    "### Model fit"
   ]
  },
  {
   "cell_type": "code",
   "execution_count": 143,
   "metadata": {
    "scrolled": true
   },
   "outputs": [
    {
     "name": "stdout",
     "output_type": "stream",
     "text": [
      "Train for 132 steps, validate for 132 steps\n",
      "Epoch 1/30\n",
      "132/132 [==============================] - 7s 56ms/step - loss: 1.5146 - mean_absolute_error_labels: 0.5577 - val_loss: 0.8664 - val_mean_absolute_error_labels: 0.2879\n",
      "Epoch 2/30\n",
      "132/132 [==============================] - 5s 40ms/step - loss: 0.7564 - mean_absolute_error_labels: 0.2488 - val_loss: 0.7214 - val_mean_absolute_error_labels: 0.2706\n",
      "Epoch 3/30\n",
      "132/132 [==============================] - 5s 40ms/step - loss: 0.6265 - mean_absolute_error_labels: 0.2249 - val_loss: 0.6411 - val_mean_absolute_error_labels: 0.2295\n",
      "Epoch 4/30\n",
      "132/132 [==============================] - 5s 40ms/step - loss: 0.5678 - mean_absolute_error_labels: 0.2035 - val_loss: 0.5758 - val_mean_absolute_error_labels: 0.1958\n",
      "Epoch 5/30\n",
      "132/132 [==============================] - 5s 39ms/step - loss: 0.5278 - mean_absolute_error_labels: 0.1897 - val_loss: 0.6368 - val_mean_absolute_error_labels: 0.2541\n",
      "Epoch 6/30\n",
      "132/132 [==============================] - 5s 39ms/step - loss: 0.5075 - mean_absolute_error_labels: 0.1841 - val_loss: 0.5451 - val_mean_absolute_error_labels: 0.2060\n",
      "Epoch 7/30\n",
      "132/132 [==============================] - 5s 40ms/step - loss: 0.4971 - mean_absolute_error_labels: 0.1788 - val_loss: 0.5501 - val_mean_absolute_error_labels: 0.1984\n",
      "Epoch 8/30\n",
      "132/132 [==============================] - 5s 40ms/step - loss: 0.4530 - mean_absolute_error_labels: 0.1627 - val_loss: 0.5360 - val_mean_absolute_error_labels: 0.1931\n",
      "Epoch 9/30\n",
      "132/132 [==============================] - 5s 40ms/step - loss: 0.4688 - mean_absolute_error_labels: 0.1745 - val_loss: 0.5687 - val_mean_absolute_error_labels: 0.1999\n",
      "Epoch 10/30\n",
      "132/132 [==============================] - 5s 39ms/step - loss: 0.4398 - mean_absolute_error_labels: 0.1623 - val_loss: 0.5787 - val_mean_absolute_error_labels: 0.2056\n",
      "Epoch 11/30\n",
      "132/132 [==============================] - 5s 40ms/step - loss: 0.4419 - mean_absolute_error_labels: 0.1658 - val_loss: 0.5279 - val_mean_absolute_error_labels: 0.1866\n",
      "Epoch 12/30\n",
      "132/132 [==============================] - 5s 40ms/step - loss: 0.4373 - mean_absolute_error_labels: 0.1633 - val_loss: 0.5938 - val_mean_absolute_error_labels: 0.1972\n",
      "Epoch 13/30\n",
      "132/132 [==============================] - 5s 40ms/step - loss: 0.4276 - mean_absolute_error_labels: 0.1547 - val_loss: 0.5572 - val_mean_absolute_error_labels: 0.1922\n",
      "Epoch 14/30\n",
      "132/132 [==============================] - 5s 40ms/step - loss: 0.4021 - mean_absolute_error_labels: 0.1468 - val_loss: 0.5659 - val_mean_absolute_error_labels: 0.1928\n",
      "Epoch 15/30\n",
      "132/132 [==============================] - 5s 40ms/step - loss: 0.4186 - mean_absolute_error_labels: 0.1502 - val_loss: 0.5470 - val_mean_absolute_error_labels: 0.1953\n",
      "Epoch 16/30\n",
      "132/132 [==============================] - 5s 40ms/step - loss: 0.4119 - mean_absolute_error_labels: 0.1454 - val_loss: 0.5820 - val_mean_absolute_error_labels: 0.2100\n",
      "Epoch 17/30\n",
      "132/132 [==============================] - 5s 40ms/step - loss: 0.3935 - mean_absolute_error_labels: 0.1465 - val_loss: 0.5521 - val_mean_absolute_error_labels: 0.1908\n",
      "Epoch 18/30\n",
      "132/132 [==============================] - 5s 40ms/step - loss: 0.4039 - mean_absolute_error_labels: 0.1455 - val_loss: 0.5550 - val_mean_absolute_error_labels: 0.1958\n",
      "Epoch 19/30\n",
      "132/132 [==============================] - 5s 40ms/step - loss: 0.3904 - mean_absolute_error_labels: 0.1406 - val_loss: 0.6094 - val_mean_absolute_error_labels: 0.2003\n",
      "Epoch 20/30\n",
      "132/132 [==============================] - 5s 40ms/step - loss: 0.3695 - mean_absolute_error_labels: 0.1341 - val_loss: 0.5648 - val_mean_absolute_error_labels: 0.1915\n",
      "Epoch 21/30\n",
      "132/132 [==============================] - 5s 39ms/step - loss: 0.3912 - mean_absolute_error_labels: 0.1425 - val_loss: 0.5777 - val_mean_absolute_error_labels: 0.1887\n",
      "Epoch 22/30\n",
      "132/132 [==============================] - 5s 39ms/step - loss: 0.3512 - mean_absolute_error_labels: 0.1249 - val_loss: 0.5836 - val_mean_absolute_error_labels: 0.1882\n",
      "Epoch 23/30\n",
      "132/132 [==============================] - 5s 39ms/step - loss: 0.3422 - mean_absolute_error_labels: 0.1214 - val_loss: 0.5762 - val_mean_absolute_error_labels: 0.1929\n",
      "Epoch 24/30\n",
      "132/132 [==============================] - 5s 41ms/step - loss: 0.3421 - mean_absolute_error_labels: 0.1183 - val_loss: 0.6108 - val_mean_absolute_error_labels: 0.2035\n",
      "Epoch 25/30\n",
      "132/132 [==============================] - 6s 44ms/step - loss: 0.3080 - mean_absolute_error_labels: 0.1135 - val_loss: 0.5662 - val_mean_absolute_error_labels: 0.1991\n",
      "Epoch 26/30\n",
      "132/132 [==============================] - 5s 41ms/step - loss: 0.3304 - mean_absolute_error_labels: 0.1180 - val_loss: 0.5728 - val_mean_absolute_error_labels: 0.1938\n",
      "Epoch 27/30\n",
      "132/132 [==============================] - 5s 40ms/step - loss: 0.3400 - mean_absolute_error_labels: 0.1218 - val_loss: 0.6649 - val_mean_absolute_error_labels: 0.2146\n",
      "Epoch 28/30\n",
      "132/132 [==============================] - 5s 40ms/step - loss: 0.3364 - mean_absolute_error_labels: 0.1220 - val_loss: 0.5489 - val_mean_absolute_error_labels: 0.1860\n",
      "Epoch 29/30\n",
      "132/132 [==============================] - 5s 40ms/step - loss: 0.3113 - mean_absolute_error_labels: 0.1143 - val_loss: 0.6088 - val_mean_absolute_error_labels: 0.1998\n",
      "Epoch 30/30\n",
      "132/132 [==============================] - 5s 40ms/step - loss: 0.3215 - mean_absolute_error_labels: 0.1138 - val_loss: 0.6815 - val_mean_absolute_error_labels: 0.2159\n"
     ]
    }
   ],
   "source": [
    "with tf.device('/gpu:0'):       # Run nodes with GPU 0\n",
    "    # This takes about 5 minutes on CPU.\n",
    "    history = model.fit(train_dataset, epochs = 30, validation_data = val_dataset,\n",
    "                        callbacks = [tf.keras.callbacks.EarlyStopping(patience = 30, restore_best_weights = True)])  \n"
   ]
  },
  {
   "cell_type": "code",
   "execution_count": 144,
   "metadata": {},
   "outputs": [
    {
     "data": {
      "image/png": "[encoded data removed]",
      "text/plain": [
       "<Figure size 432x288 with 1 Axes>"
      ]
     },
     "metadata": {
      "needs_background": "light"
     },
     "output_type": "display_data"
    }
   ],
   "source": [
    "# plot loss during training\n",
    "pyplot.title('Loss / OrdinalCrossEntropy')\n",
    "pyplot.plot(history.history['loss'], label='train')\n",
    "pyplot.plot(history.history['val_loss'], label='test')\n",
    "pyplot.legend()\n",
    "pyplot.show()"
   ]
  },
  {
   "cell_type": "code",
   "execution_count": 145,
   "metadata": {},
   "outputs": [
    {
     "data": {
      "image/png": "[encoded data removed]",
      "text/plain": [
       "<Figure size 432x288 with 1 Axes>"
      ]
     },
     "metadata": {
      "needs_background": "light"
     },
     "output_type": "display_data"
    }
   ],
   "source": [
    "# plot MAE training\n",
    "pyplot.title('metric / Mean Absolute Error')\n",
    "pyplot.plot(history.history['mean_absolute_error_labels'], label='train')\n",
    "pyplot.plot(history.history['val_mean_absolute_error_labels'], label='test')\n",
    "pyplot.legend()\n",
    "pyplot.show()"
   ]
  },
  {
   "cell_type": "markdown",
   "metadata": {},
   "source": [
    "### Model evaluation"
   ]
  },
  {
   "cell_type": "code",
   "execution_count": 146,
   "metadata": {},
   "outputs": [
    {
     "name": "stdout",
     "output_type": "stream",
     "text": [
      "14/14 [==============================] - 0s 19ms/step - loss: 0.6777 - mean_absolute_error_labels: 0.2121\n"
     ]
    },
    {
     "data": {
      "text/plain": [
       "[0.6776524995054517, 0.21205357]"
      ]
     },
     "execution_count": 146,
     "metadata": {},
     "output_type": "execute_result"
    }
   ],
   "source": [
    "# Evaluate on test dataset.\n",
    "model.evaluate(test_dataset)"
   ]
  },
  {
   "cell_type": "markdown",
   "metadata": {},
   "source": [
    "# save predictions"
   ]
  },
  {
   "cell_type": "markdown",
   "metadata": {},
   "source": [
    "### Prepare Testing data"
   ]
  },
  {
   "cell_type": "code",
   "execution_count": 147,
   "metadata": {},
   "outputs": [],
   "source": [
    "# copy of test dataset\n",
    "df_out = df_test.copy(deep=True)"
   ]
  },
  {
   "cell_type": "code",
   "execution_count": 148,
   "metadata": {},
   "outputs": [],
   "source": [
    "dropped_features = drop_features + duplicate_features"
   ]
  },
  {
   "cell_type": "code",
   "execution_count": 149,
   "metadata": {},
   "outputs": [
    {
     "name": "stdout",
     "output_type": "stream",
     "text": [
      "Input dataframe shape (4760, 327)\n",
      "Input features shape (4760, 473)\n"
     ]
    }
   ],
   "source": [
    "X = preprocess_data(df_out, datetime_features, dropped_features,c_xform=ct)\n",
    "X = X.astype('int32')\n",
    "print(\"Input dataframe shape\",df_out.shape)\n",
    "print(\"Input features shape\", X.shape)"
   ]
  },
  {
   "cell_type": "markdown",
   "metadata": {},
   "source": [
    "### Predict output"
   ]
  },
  {
   "cell_type": "code",
   "execution_count": 150,
   "metadata": {},
   "outputs": [
    {
     "name": "stdout",
     "output_type": "stream",
     "text": [
      "Predict on test dataset\n"
     ]
    },
    {
     "data": {
      "text/html": [
       "<div>\n",
       "<style scoped>\n",
       "    .dataframe tbody tr th:only-of-type {\n",
       "        vertical-align: middle;\n",
       "    }\n",
       "\n",
       "    .dataframe tbody tr th {\n",
       "        vertical-align: top;\n",
       "    }\n",
       "\n",
       "    .dataframe thead th {\n",
       "        text-align: right;\n",
       "    }\n",
       "</style>\n",
       "<table border=\"1\" class=\"dataframe\">\n",
       "  <thead>\n",
       "    <tr style=\"text-align: right;\">\n",
       "      <th></th>\n",
       "      <th>0</th>\n",
       "      <th>1</th>\n",
       "      <th>2</th>\n",
       "      <th>3</th>\n",
       "      <th>4</th>\n",
       "      <th>5</th>\n",
       "    </tr>\n",
       "  </thead>\n",
       "  <tbody>\n",
       "    <tr>\n",
       "      <th>0</th>\n",
       "      <td>0.0</td>\n",
       "      <td>4.768372e-07</td>\n",
       "      <td>0.000003</td>\n",
       "      <td>0.000277</td>\n",
       "      <td>0.999394</td>\n",
       "      <td>3.264181e-04</td>\n",
       "    </tr>\n",
       "    <tr>\n",
       "      <th>1</th>\n",
       "      <td>0.0</td>\n",
       "      <td>3.218651e-06</td>\n",
       "      <td>0.000018</td>\n",
       "      <td>0.001937</td>\n",
       "      <td>0.997996</td>\n",
       "      <td>4.662292e-05</td>\n",
       "    </tr>\n",
       "    <tr>\n",
       "      <th>2</th>\n",
       "      <td>0.0</td>\n",
       "      <td>1.084805e-05</td>\n",
       "      <td>0.000058</td>\n",
       "      <td>0.006429</td>\n",
       "      <td>0.993487</td>\n",
       "      <td>1.397972e-05</td>\n",
       "    </tr>\n",
       "    <tr>\n",
       "      <th>3</th>\n",
       "      <td>0.0</td>\n",
       "      <td>1.883805e-02</td>\n",
       "      <td>0.089888</td>\n",
       "      <td>0.811534</td>\n",
       "      <td>0.079740</td>\n",
       "      <td>7.923605e-09</td>\n",
       "    </tr>\n",
       "    <tr>\n",
       "      <th>4</th>\n",
       "      <td>0.0</td>\n",
       "      <td>1.883805e-02</td>\n",
       "      <td>0.089888</td>\n",
       "      <td>0.811534</td>\n",
       "      <td>0.079740</td>\n",
       "      <td>7.923605e-09</td>\n",
       "    </tr>\n",
       "  </tbody>\n",
       "</table>\n",
       "</div>"
      ],
      "text/plain": [
       "     0             1         2         3         4             5\n",
       "0  0.0  4.768372e-07  0.000003  0.000277  0.999394  3.264181e-04\n",
       "1  0.0  3.218651e-06  0.000018  0.001937  0.997996  4.662292e-05\n",
       "2  0.0  1.084805e-05  0.000058  0.006429  0.993487  1.397972e-05\n",
       "3  0.0  1.883805e-02  0.089888  0.811534  0.079740  7.923605e-09\n",
       "4  0.0  1.883805e-02  0.089888  0.811534  0.079740  7.923605e-09"
      ]
     },
     "execution_count": 150,
     "metadata": {},
     "output_type": "execute_result"
    }
   ],
   "source": [
    "print(\"Predict on test dataset\")\n",
    "\n",
    "# Note that these are ordinal (cumulative) logits, not probabilities or regular logits.\n",
    "ordinal_logits = model.predict(X)\n",
    "\n",
    "# Convert from logits to label probabilities. This is initially a tensorflow tensor.\n",
    "tensor_probs = coral.ordinal_softmax(ordinal_logits)\n",
    "\n",
    "# Convert the tensor into a pandas dataframe.\n",
    "probs_df = pd.DataFrame(tensor_probs.numpy())\n",
    "\n",
    "probs_df.head()"
   ]
  },
  {
   "cell_type": "code",
   "execution_count": 151,
   "metadata": {},
   "outputs": [
    {
     "data": {
      "text/html": [
       "<div>\n",
       "<style scoped>\n",
       "    .dataframe tbody tr th:only-of-type {\n",
       "        vertical-align: middle;\n",
       "    }\n",
       "\n",
       "    .dataframe tbody tr th {\n",
       "        vertical-align: top;\n",
       "    }\n",
       "\n",
       "    .dataframe thead th {\n",
       "        text-align: right;\n",
       "    }\n",
       "</style>\n",
       "<table border=\"1\" class=\"dataframe\">\n",
       "  <thead>\n",
       "    <tr style=\"text-align: right;\">\n",
       "      <th></th>\n",
       "      <th>0</th>\n",
       "      <th>1</th>\n",
       "      <th>2</th>\n",
       "      <th>3</th>\n",
       "      <th>4</th>\n",
       "    </tr>\n",
       "  </thead>\n",
       "  <tbody>\n",
       "    <tr>\n",
       "      <th>0</th>\n",
       "      <td>1.0</td>\n",
       "      <td>1.000000</td>\n",
       "      <td>0.999997</td>\n",
       "      <td>0.999720</td>\n",
       "      <td>3.264181e-04</td>\n",
       "    </tr>\n",
       "    <tr>\n",
       "      <th>1</th>\n",
       "      <td>1.0</td>\n",
       "      <td>0.999997</td>\n",
       "      <td>0.999979</td>\n",
       "      <td>0.998043</td>\n",
       "      <td>4.662293e-05</td>\n",
       "    </tr>\n",
       "    <tr>\n",
       "      <th>2</th>\n",
       "      <td>1.0</td>\n",
       "      <td>0.999989</td>\n",
       "      <td>0.999931</td>\n",
       "      <td>0.993501</td>\n",
       "      <td>1.397972e-05</td>\n",
       "    </tr>\n",
       "    <tr>\n",
       "      <th>3</th>\n",
       "      <td>1.0</td>\n",
       "      <td>0.981162</td>\n",
       "      <td>0.891274</td>\n",
       "      <td>0.079740</td>\n",
       "      <td>7.923605e-09</td>\n",
       "    </tr>\n",
       "    <tr>\n",
       "      <th>4</th>\n",
       "      <td>1.0</td>\n",
       "      <td>0.981162</td>\n",
       "      <td>0.891274</td>\n",
       "      <td>0.079740</td>\n",
       "      <td>7.923605e-09</td>\n",
       "    </tr>\n",
       "  </tbody>\n",
       "</table>\n",
       "</div>"
      ],
      "text/plain": [
       "     0         1         2         3             4\n",
       "0  1.0  1.000000  0.999997  0.999720  3.264181e-04\n",
       "1  1.0  0.999997  0.999979  0.998043  4.662293e-05\n",
       "2  1.0  0.999989  0.999931  0.993501  1.397972e-05\n",
       "3  1.0  0.981162  0.891274  0.079740  7.923605e-09\n",
       "4  1.0  0.981162  0.891274  0.079740  7.923605e-09"
      ]
     },
     "execution_count": 151,
     "metadata": {},
     "output_type": "execute_result"
    }
   ],
   "source": [
    "# Compare to logit-based cumulative probs\n",
    "cum_probs = pd.DataFrame(ordinal_logits).apply(special.expit)\n",
    "cum_probs.head()"
   ]
  },
  {
   "cell_type": "code",
   "execution_count": 152,
   "metadata": {},
   "outputs": [
    {
     "data": {
      "text/plain": [
       "0    4\n",
       "1    4\n",
       "2    4\n",
       "3    3\n",
       "4    3\n",
       "dtype: int64"
      ]
     },
     "execution_count": 152,
     "metadata": {},
     "output_type": "execute_result"
    }
   ],
   "source": [
    "# Calculate the labels using the style of Cao et al.\n",
    "labels = cum_probs.apply(lambda x: x > 0.5).sum(axis = 1)\n",
    "labels.head()"
   ]
  },
  {
   "cell_type": "code",
   "execution_count": 153,
   "metadata": {},
   "outputs": [],
   "source": [
    "output_df = pd.DataFrame(columns=['appno','importance'])\n",
    "output_df['appno'] = df_test['appno']\n",
    "output_df['importance'] = labels\n",
    "output_df.to_csv(\"dataset/submission_skl_tf.csv\",index=False)"
   ]
  },
  {
   "cell_type": "code",
   "execution_count": null,
   "metadata": {},
   "outputs": [],
   "source": []
  }
 ],
 "metadata": {
  "kernelspec": {
   "display_name": "tensorflow",
   "language": "python",
   "name": "tensorflow"
  },
  "language_info": {
   "codemirror_mode": {
    "name": "ipython",
    "version": 3
   },
   "file_extension": ".py",
   "mimetype": "text/x-python",
   "name": "python",
   "nbconvert_exporter": "python",
   "pygments_lexer": "ipython3",
   "version": "3.7.9"
  },
  "toc": {
   "base_numbering": 1,
   "nav_menu": {},
   "number_sections": false,
   "sideBar": false,
   "skip_h1_title": false,
   "title_cell": "Table of Contents",
   "title_sidebar": "Contents",
   "toc_cell": false,
   "toc_position": {},
   "toc_section_display": true,
   "toc_window_display": false
  }
 },
 "nbformat": 4,
 "nbformat_minor": 4
}
